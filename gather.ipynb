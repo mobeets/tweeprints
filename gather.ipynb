{
 "cells": [
  {
   "cell_type": "code",
   "execution_count": 1,
   "metadata": {
    "collapsed": true
   },
   "outputs": [],
   "source": [
    "import numpy as np\n",
    "import pickle\n",
    "import matplotlib.pyplot as plt"
   ]
  },
  {
   "cell_type": "code",
   "execution_count": 2,
   "metadata": {
    "collapsed": false
   },
   "outputs": [
    {
     "name": "stderr",
     "output_type": "stream",
     "text": [
      "/Users/mobeets/anaconda/lib/python2.7/site-packages/cryptography/hazmat/primitives/constant_time.py:26: CryptographyDeprecationWarning: Support for your Python version is deprecated. The next version of cryptography will remove support. Please upgrade to a release (2.7.7+) that supports hmac.compare_digest as soon as possible.\n",
      "  utils.PersistentlyDeprecated2018,\n"
     ]
    }
   ],
   "source": [
    "import os\n",
    "import tweepy\n",
    "\n",
    "CONSUMER_KEY=\"07AQR8EwMu4tnN7eNrWlcCImg\"\n",
    "CONSUMER_SECRET=\"RNaSs12y2nSVsu5fPWL7BBBuG8XOhtsU3ku13fZ9Kz3ubpJvSN\"\n",
    "OAUTH_TOKEN=\"865566989087100930-GV6hLVrQCJGj7KCNuaiZIlFpbOjXzmT\"\n",
    "OAUTH_TOKEN_SECRET=\"HG0D2MeU6g11hVbzz5lA665iZVlXbUsS0NBWG7Twe0r1u\"\n",
    "\n",
    "auth = tweepy.OAuthHandler(CONSUMER_KEY, CONSUMER_SECRET)\n",
    "auth.set_access_token(OAUTH_TOKEN, OAUTH_TOKEN_SECRET)\n",
    "api = tweepy.API(auth)"
   ]
  },
  {
   "cell_type": "code",
   "execution_count": 3,
   "metadata": {
    "collapsed": false
   },
   "outputs": [
    {
     "name": "stdout",
     "output_type": "stream",
     "text": [
      "1 20 2020-01-24 01:25:24\n",
      "2 40 2020-01-18 16:53:07\n",
      "3 60 2020-01-09 19:48:13\n",
      "4 80 2019-12-24 18:15:18\n",
      "5 100 2019-12-04 19:30:59\n",
      "6 120 2019-11-19 02:23:08\n",
      "7 140 2019-10-25 12:13:15\n",
      "8 160 2019-10-01 09:57:30\n",
      "9 180 2019-09-04 13:45:24\n",
      "10 200 2019-08-08 15:54:13\n",
      "11 220 2019-07-15 23:48:44\n",
      "12 240 2019-07-04 15:17:10\n",
      "13 260 2019-06-28 15:38:26\n",
      "14 280 2019-06-21 21:05:10\n",
      "15 300 2019-06-18 19:05:53\n",
      "16 320 2019-06-16 15:58:09\n",
      "17 340 2019-06-14 21:11:29\n",
      "18 353 2019-06-14 20:54:41\n"
     ]
    }
   ],
   "source": [
    "all_tweets = []\n",
    "last_id = None\n",
    "first_id = 1139637304929243136\n",
    "c = 0\n",
    "while len(all_tweets) == 0 or all_tweets[-1].id != 1139637304929243136:\n",
    "    c += 1\n",
    "    tweets = api.user_timeline(screen_name='tweeprint', count=20, max_id=last_id)\n",
    "    last_id = tweets[-1].id\n",
    "    all_tweets += tweets\n",
    "    print c, len(all_tweets), all_tweets[-1].created_at\n"
   ]
  },
  {
   "cell_type": "code",
   "execution_count": 4,
   "metadata": {
    "collapsed": false
   },
   "outputs": [
    {
     "name": "stdout",
     "output_type": "stream",
     "text": [
      "336\n"
     ]
    }
   ],
   "source": [
    "ids = []\n",
    "unique_tweets = []\n",
    "for tweet in all_tweets:\n",
    "    if tweet.id not in ids:\n",
    "        unique_tweets.append(tweet)\n",
    "        ids.append(tweet.id)\n",
    "print len(unique_tweets)"
   ]
  },
  {
   "cell_type": "code",
   "execution_count": 5,
   "metadata": {
    "collapsed": true
   },
   "outputs": [],
   "source": [
    "with open('tweets_20200201.pickle', 'wb') as f:\n",
    "    pickle.dump(unique_tweets, f)\n"
   ]
  },
  {
   "cell_type": "code",
   "execution_count": 6,
   "metadata": {
    "collapsed": false
   },
   "outputs": [],
   "source": [
    "dts = [t.retweeted_status.created_at for t in unique_tweets if hasattr(t, 'retweeted_status')]\n",
    "dts = sorted(dts)"
   ]
  },
  {
   "cell_type": "code",
   "execution_count": 7,
   "metadata": {
    "collapsed": false
   },
   "outputs": [],
   "source": [
    "plt.style.use('ggplot')"
   ]
  },
  {
   "cell_type": "code",
   "execution_count": 69,
   "metadata": {
    "collapsed": false
   },
   "outputs": [
    {
     "data": {
      "text/plain": [
       "'2019:012'"
      ]
     },
     "execution_count": 69,
     "metadata": {},
     "output_type": "execute_result"
    }
   ],
   "source": [
    "'{}:{:03}'.format(2019,12)"
   ]
  },
  {
   "cell_type": "code",
   "execution_count": 17,
   "metadata": {
    "collapsed": false
   },
   "outputs": [
    {
     "name": "stdout",
     "output_type": "stream",
     "text": [
      "{'2019-02': 6, '2019-03': 5, '2019-01': 3, '2019-06': 47, '2019-07': 37, '2019-04': 4, '2019-05': 12, '2019-08': 19, '2019-09': 20, '2020-02': 1, '2020-01': 63, '2019-11': 28, '2019-12': 25, '2019-10': 27}\n",
      "297\n"
     ]
    },
    {
     "data": {
      "image/png": "[encoded data removed]",
      "text/plain": [
       "<Figure size 432x288 with 1 Axes>"
      ]
     },
     "metadata": {},
     "output_type": "display_data"
    }
   ],
   "source": [
    "# counts per year/month\n",
    "cs = {}\n",
    "for dt in dts:\n",
    "    if dt.year < 2019:\n",
    "        continue\n",
    "    key = '{}-{:02}'.format(dt.year, dt.month)\n",
    "    if key not in cs:\n",
    "        cs[key] = 0\n",
    "    cs[key] += 1\n",
    "bins = list(cs.keys())\n",
    "print(cs)\n",
    "print(sum(list(cs.values())))\n",
    "\n",
    "xs = sorted(bins)\n",
    "ys = [cs[x] for x in xs]\n",
    "\n",
    "# cs = np.bincount(ms)\n",
    "fntsz = 16\n",
    "plt.plot(xs, ys, 'o-')\n",
    "plt.xticks(fontsize=fntsz, rotation=90)\n",
    "plt.yticks(fontsize=fntsz)\n",
    "plt.ylabel('# of tweeprints', fontsize=fntsz)\n",
    "plt.show()"
   ]
  },
  {
   "cell_type": "code",
   "execution_count": 9,
   "metadata": {
    "collapsed": false
   },
   "outputs": [
    {
     "data": {
      "image/png": "[encoded data removed]",
      "text/plain": [
       "<Figure size 432x288 with 1 Axes>"
      ]
     },
     "metadata": {},
     "output_type": "display_data"
    }
   ],
   "source": [
    "ds = [d.weekday() for d in dts]\n",
    "bins = range(0, max(ds)+1)\n",
    "cs = np.bincount(ds)\n",
    "fntsz = 16\n",
    "plt.plot(bins, cs, 'o-')\n",
    "plt.xticks(bins, ['Mon', 'Tue', 'Wed', 'Thu', 'Fri', 'Sat', 'Sun'], fontsize=fntsz)\n",
    "plt.yticks(fontsize=fntsz)\n",
    "# plt.xlabel('month', fontsize=fntsz)\n",
    "plt.ylabel('# of tweeprints', fontsize=fntsz)\n",
    "plt.show()\n"
   ]
  },
  {
   "cell_type": "code",
   "execution_count": 10,
   "metadata": {
    "collapsed": false
   },
   "outputs": [
    {
     "data": {
      "image/png": "[encoded data removed]",
      "text/plain": [
       "<Figure size 432x288 with 1 Axes>"
      ]
     },
     "metadata": {},
     "output_type": "display_data"
    }
   ],
   "source": [
    "hs = [d.hour for d in dts]\n",
    "bins = range(0, max(hs)+1)\n",
    "cs = np.bincount(hs)\n",
    "fntsz = 16\n",
    "plt.plot(bins, cs, 'o-')\n",
    "# plt.xticks(bins, ['Mon', 'Tue', 'Wed', 'Thu', 'Fri', 'Sat', 'Sun'], fontsize=fntsz)\n",
    "plt.yticks(fontsize=fntsz)\n",
    "# plt.xlabel('month', fontsize=fntsz)\n",
    "plt.ylabel('# of tweeprints', fontsize=fntsz)\n",
    "plt.show()"
   ]
  },
  {
   "cell_type": "code",
   "execution_count": 12,
   "metadata": {
    "collapsed": false
   },
   "outputs": [
    {
     "name": "stdout",
     "output_type": "stream",
     "text": [
      "317\n"
     ]
    }
   ],
   "source": [
    "rts = [t.retweeted_status for t in unique_tweets if hasattr(t, 'retweeted_status')]\n",
    "print len(rts)"
   ]
  },
  {
   "cell_type": "code",
   "execution_count": 13,
   "metadata": {
    "collapsed": false
   },
   "outputs": [
    {
     "data": {
      "image/png": "[encoded data removed]",
      "text/plain": [
       "<Figure size 432x288 with 1 Axes>"
      ]
     },
     "metadata": {},
     "output_type": "display_data"
    }
   ],
   "source": [
    "fs = np.array([t.retweet_count for t in rts])\n",
    "fs = np.log10(fs[fs > 0])\n",
    "xs = np.linspace(0,4,11)\n",
    "bs = np.unique([int(x) for x in xs])\n",
    "cs = plt.hist(fs, bins=xs)\n",
    "fntsz = 16\n",
    "plt.xlabel('RT count', fontsize=fntsz)\n",
    "plt.xticks(bs, ['$10^{{{}}}$'.format(x) for x in bs], fontsize=fntsz)\n",
    "plt.yticks(fontsize=fntsz)\n",
    "plt.ylabel('# of tweeprints', fontsize=fntsz)\n",
    "# plt.gca().axis('equal')\n",
    "plt.show()\n"
   ]
  },
  {
   "cell_type": "code",
   "execution_count": 14,
   "metadata": {
    "collapsed": false
   },
   "outputs": [
    {
     "name": "stdout",
     "output_type": "stream",
     "text": [
      "0.13541853191892864\n",
      "3.0710526315789473\n",
      "[-2 -1  0]\n"
     ]
    },
    {
     "data": {
      "image/png": "[encoded data removed]",
      "text/plain": [
       "<Figure size 432x288 with 1 Axes>"
      ]
     },
     "metadata": {},
     "output_type": "display_data"
    }
   ],
   "source": [
    "fs = np.array([1.0*t.favorite_count/t.user.followers_count for t in rts])\n",
    "fs = np.log10(fs[fs > 0])\n",
    "print np.power(10, np.median(fs))\n",
    "print np.power(10, fs.max())\n",
    "# print sorted(fs)\n",
    "# fs = fs - fs.min()\n",
    "# xs = np.linspace(0,0.5,11)\n",
    "# bs = np.unique([int(x) for x in xs])\n",
    "cs = plt.hist(fs)#, bins=xs)\n",
    "# print cs\n",
    "fntsz = 16\n",
    "plt.xlabel('likes/followers', fontsize=fntsz)\n",
    "\n",
    "bins = cs[1]\n",
    "bins = np.unique([int(x) for x in bins])\n",
    "print(bins)\n",
    "\n",
    "plt.xticks(bins, ['$10^{{{}}}$'.format(x) for x in bins], fontsize=fntsz)\n",
    "plt.yticks(fontsize=fntsz)\n",
    "plt.ylabel('# of tweeprints', fontsize=fntsz)\n",
    "# plt.gca().axis('equal')\n",
    "plt.show()"
   ]
  },
  {
   "cell_type": "code",
   "execution_count": 83,
   "metadata": {
    "collapsed": false
   },
   "outputs": [
    {
     "ename": "NameError",
     "evalue": "name 'tweeprints' is not defined",
     "output_type": "error",
     "traceback": [
      "\u001b[0;31m---------------------------------------------------------------------------\u001b[0m",
      "\u001b[0;31mNameError\u001b[0m                                 Traceback (most recent call last)",
      "\u001b[0;32m<ipython-input-83-555c95f686d2>\u001b[0m in \u001b[0;36m<module>\u001b[0;34m()\u001b[0m\n\u001b[0;32m----> 1\u001b[0;31m \u001b[0mfs\u001b[0m \u001b[0;34m=\u001b[0m \u001b[0mnp\u001b[0m\u001b[0;34m.\u001b[0m\u001b[0marray\u001b[0m\u001b[0;34m(\u001b[0m\u001b[0;34m[\u001b[0m\u001b[0mt\u001b[0m\u001b[0;34m.\u001b[0m\u001b[0mfavorite_count\u001b[0m \u001b[0;32mfor\u001b[0m \u001b[0mt\u001b[0m \u001b[0;32min\u001b[0m \u001b[0mtweeprints\u001b[0m\u001b[0;34m]\u001b[0m\u001b[0;34m)\u001b[0m\u001b[0;34m\u001b[0m\u001b[0m\n\u001b[0m\u001b[1;32m      2\u001b[0m \u001b[0;32mprint\u001b[0m \u001b[0;34m'LIKES: mean={:0.2f}, median={:0.2f}, max={:0.2f}'\u001b[0m\u001b[0;34m.\u001b[0m\u001b[0mformat\u001b[0m\u001b[0;34m(\u001b[0m\u001b[0mfs\u001b[0m\u001b[0;34m.\u001b[0m\u001b[0mmean\u001b[0m\u001b[0;34m(\u001b[0m\u001b[0;34m)\u001b[0m\u001b[0;34m,\u001b[0m \u001b[0mnp\u001b[0m\u001b[0;34m.\u001b[0m\u001b[0mmedian\u001b[0m\u001b[0;34m(\u001b[0m\u001b[0mfs\u001b[0m\u001b[0;34m)\u001b[0m\u001b[0;34m,\u001b[0m \u001b[0mnp\u001b[0m\u001b[0;34m.\u001b[0m\u001b[0mmax\u001b[0m\u001b[0;34m(\u001b[0m\u001b[0mfs\u001b[0m\u001b[0;34m)\u001b[0m\u001b[0;34m)\u001b[0m\u001b[0;34m\u001b[0m\u001b[0m\n\u001b[1;32m      3\u001b[0m \u001b[0;32mprint\u001b[0m \u001b[0msorted\u001b[0m\u001b[0;34m(\u001b[0m\u001b[0mfs\u001b[0m\u001b[0;34m,\u001b[0m \u001b[0mreverse\u001b[0m\u001b[0;34m=\u001b[0m\u001b[0mTrue\u001b[0m\u001b[0;34m)\u001b[0m\u001b[0;34m[\u001b[0m\u001b[0;34m:\u001b[0m\u001b[0;36m10\u001b[0m\u001b[0;34m]\u001b[0m\u001b[0;34m\u001b[0m\u001b[0m\n\u001b[1;32m      4\u001b[0m \u001b[0;32mprint\u001b[0m \u001b[0mnp\u001b[0m\u001b[0;34m.\u001b[0m\u001b[0mmedian\u001b[0m\u001b[0;34m(\u001b[0m\u001b[0msorted\u001b[0m\u001b[0;34m(\u001b[0m\u001b[0mfs\u001b[0m\u001b[0;34m,\u001b[0m \u001b[0mreverse\u001b[0m\u001b[0;34m=\u001b[0m\u001b[0mTrue\u001b[0m\u001b[0;34m)\u001b[0m\u001b[0;34m[\u001b[0m\u001b[0;34m:\u001b[0m\u001b[0;36m10\u001b[0m\u001b[0;34m]\u001b[0m\u001b[0;34m)\u001b[0m\u001b[0;34m\u001b[0m\u001b[0m\n\u001b[1;32m      5\u001b[0m \u001b[0;34m\u001b[0m\u001b[0m\n",
      "\u001b[0;31mNameError\u001b[0m: name 'tweeprints' is not defined"
     ]
    }
   ],
   "source": [
    "fs = np.array([t.favorite_count for t in tweeprints])\n",
    "print 'LIKES: mean={:0.2f}, median={:0.2f}, max={:0.2f}'.format(fs.mean(), np.median(fs), np.max(fs))\n",
    "print sorted(fs, reverse=True)[:10]\n",
    "print np.median(sorted(fs, reverse=True)[:10])\n",
    "\n",
    "fs = np.array([t.retweet_count for t in tweeprints])\n",
    "print 'RTS: mean={:0.2f}, median={:0.2f}, max={:0.2f}'.format(fs.mean(), np.median(fs), np.max(fs))"
   ]
  },
  {
   "cell_type": "code",
   "execution_count": 84,
   "metadata": {
    "collapsed": false
   },
   "outputs": [
    {
     "name": "stdout",
     "output_type": "stream",
     "text": [
      "--------------\n",
      "MOST LIKED\n",
      "--------------\n",
      "      \n",
      "     0 (72300 followers, 2354 likes) Weight Agnostic Neural Networks 🦎\n",
      "\n",
      "Inspired by precocial species in biology, we set out to search for neural net ar… https://t.co/KAbZOw2Pz8\n",
      "      \n",
      "     1 (3467 followers, 2063 likes) Story time! Single neurons in the brain can’t be depended on for reliable information. Here are some neurons from o… https://t.co/KE43xHzU33\n",
      "      \n",
      "     2 (793 followers, 1810 likes) A story of a Cortical Neuron as a Deep Artificial Neural Net:\n",
      "\n",
      "1) Neurons in the brain are bombarded with massive s… https://t.co/dbdQmoVwrV\n",
      "      \n",
      "     3 (3064 followers, 1442 likes) Social networks can distort decision making and produce undemocratic outcomes, our latest study… https://t.co/EycEzzSYDS\n",
      "      \n",
      "     4 (7112 followers, 1386 likes) 💥🎉 FINALLY! Our paper is out! 💥🎉 @CellCellPress We discovered that the nervous system of C.elegans transmits inform… https://t.co/zK37f0rgdL\n",
      "      \n",
      "     5 (37280 followers, 1338 likes) Just posted @biorxivpreprint describing one of whackiest discoveries of my time in science. We found a virus that h… https://t.co/8nzPQA3fbn\n",
      "      \n",
      "     6 (72300 followers, 1291 likes) Learning to Predict Without Looking Ahead: World Models Without Forward Prediction\n",
      "\n",
      "Rather than hardcoding forward… https://t.co/72TQGqjpLC\n",
      "      \n",
      "     7 (6847 followers, 1203 likes) 1. \"C. elegans is simple,\" they said. \"We've got the connectome. You can study the whole brain.\"\n",
      "I fell for it, and… https://t.co/QI20TNrXlv\n",
      "      \n",
      "     8 (377 followers, 1168 likes) 1\\Really excited to share our latest paper, out today in @NatureComms! It's joint work with @WeihuaLi11,… https://t.co/kSSC7W2m5w\n",
      "      \n",
      "     9 (2252 followers, 1062 likes) For those using optogenetics: a cautionary tale. Light alone can modulate neural activity and behavior through heat… https://t.co/H1m41nMiRy\n",
      "--------------\n",
      "MOST RETWEETED\n",
      "--------------\n",
      "      \n",
      "     0 (72300 followers, 744 RTs) Weight Agnostic Neural Networks 🦎\n",
      "\n",
      "Inspired by precocial species in biology, we set out to search for neural net ar… https://t.co/KAbZOw2Pz8\n",
      "      \n",
      "     1 (3064 followers, 730 RTs) Social networks can distort decision making and produce undemocratic outcomes, our latest study… https://t.co/EycEzzSYDS\n",
      "      \n",
      "     2 (3467 followers, 727 RTs) Story time! Single neurons in the brain can’t be depended on for reliable information. Here are some neurons from o… https://t.co/KE43xHzU33\n",
      "      \n",
      "     3 (793 followers, 708 RTs) A story of a Cortical Neuron as a Deep Artificial Neural Net:\n",
      "\n",
      "1) Neurons in the brain are bombarded with massive s… https://t.co/dbdQmoVwrV\n",
      "      \n",
      "     4 (377 followers, 608 RTs) 1\\Really excited to share our latest paper, out today in @NatureComms! It's joint work with @WeihuaLi11,… https://t.co/kSSC7W2m5w\n",
      "      \n",
      "     5 (354 followers, 547 RTs) Ever wondered what would happen if 70 different groups analyzed the same fMRI dataset? The pre-print of our… https://t.co/kplmje3mf4\n",
      "      \n",
      "     6 (9752 followers, 518 RTs) (1/n) Latest pre-print from lab! Octopi; open configurable high-throughput imaging platform. Led by an incredible g… https://t.co/MQBskNY6fQ\n",
      "      \n",
      "     7 (2252 followers, 513 RTs) For those using optogenetics: a cautionary tale. Light alone can modulate neural activity and behavior through heat… https://t.co/H1m41nMiRy\n",
      "      \n",
      "     8 (37280 followers, 502 RTs) Just posted @biorxivpreprint describing one of whackiest discoveries of my time in science. We found a virus that h… https://t.co/8nzPQA3fbn\n",
      "      \n",
      "     9 (7112 followers, 474 RTs) 💥🎉 FINALLY! Our paper is out! 💥🎉 @CellCellPress We discovered that the nervous system of C.elegans transmits inform… https://t.co/zK37f0rgdL\n",
      "--------------\n",
      "MOST LIKES/FOLLOWERS\n",
      "--------------\n",
      "      \n",
      "     0 (377 followers, 1168 likes) 1\\Really excited to share our latest paper, out today in @NatureComms! It's joint work with @WeihuaLi11,… https://t.co/kSSC7W2m5w\n",
      "      \n",
      "     1 (354 followers, 1000 likes) Ever wondered what would happen if 70 different groups analyzed the same fMRI dataset? The pre-print of our… https://t.co/kplmje3mf4\n",
      "      \n",
      "     2 (359 followers, 841 likes) What's hidden in an overparameterized neural network with random weights? If the distribution is properly scaled (e… https://t.co/x3Gh2tRovJ\n",
      "      \n",
      "     3 (793 followers, 1810 likes) A story of a Cortical Neuron as a Deep Artificial Neural Net:\n",
      "\n",
      "1) Neurons in the brain are bombarded with massive s… https://t.co/dbdQmoVwrV\n",
      "      \n",
      "     4 (168 followers, 373 likes) 1/4 Want to probe over 100 synaptic connections at once? Check out our new paper @eLife with @FMittermaier on how t… https://t.co/8Yiazt293o\n",
      "      \n",
      "     5 (47 followers, 92 likes) Excited to present at #NeurIPS2019 this week!! I identify challenges in hyperparameter search when training sequent… https://t.co/9yLTJ28F15\n",
      "      \n",
      "     6 (287 followers, 491 likes) Hey Twitter! I'm super stoked to plug the first paper from the Sternberg Lab! Transposon-encoded CRISPR–Cas systems… https://t.co/GdUTNuVwj3\n",
      "      \n",
      "     7 (101 followers, 143 likes) HNY and 1st discovery from mouse V1 serial section EM dataset! https://t.co/fX8aBLo5iQ Largest wiring diagram yet b… https://t.co/OUCzd4L4AP\n",
      "      \n",
      "     8 (23 followers, 28 likes) 1/4: Pleased to announce that a preprint of our work exploring adaptation and de novo learning in a continuous cont… https://t.co/D0CfhpTp0O\n",
      "      \n",
      "     9 (349 followers, 397 likes) 1/ Very happy to share that my main PhD paper is out in @NeuroCellPress! We used simultaneous neural recordings in… https://t.co/djtJXpN5HP\n"
     ]
    }
   ],
   "source": [
    "ts = sorted(rts, key=lambda t: t.favorite_count, reverse=True)\n",
    "print ('--------------')\n",
    "print 'MOST LIKED'\n",
    "print ('--------------')\n",
    "for i, t in enumerate(ts[:10]):\n",
    "    print ('      ')\n",
    "    print '     {} ({} followers, {} likes) '.format(i, t.user.followers_count, t.favorite_count) + t.text\n",
    "\n",
    "ts = sorted(rts, key=lambda t: t.retweet_count, reverse=True)\n",
    "print ('--------------')\n",
    "print 'MOST RETWEETED'\n",
    "print ('--------------')\n",
    "for i, t in enumerate(ts[:10]):\n",
    "    print ('      ')\n",
    "    print '     {} ({} followers, {} RTs) '.format(i, t.user.followers_count, t.retweet_count) + t.text\n",
    "    \n",
    "ts = sorted(rts, key=lambda t: 1.0*t.favorite_count/t.user.followers_count, reverse=True)\n",
    "print ('--------------')\n",
    "print 'MOST LIKES/FOLLOWERS'\n",
    "print ('--------------')\n",
    "for i, t in enumerate(ts[:10]):\n",
    "    print ('      ')\n",
    "    print '     {} ({} followers, {} likes) '.format(i, t.user.followers_count, t.favorite_count) + t.text\n",
    "\n",
    "# 400, 7k, 70k, 37k, 34k, 7k, 3k, 800*, 3k*, 70k\n"
   ]
  },
  {
   "cell_type": "code",
   "execution_count": 85,
   "metadata": {
    "collapsed": false
   },
   "outputs": [
    {
     "name": "stderr",
     "output_type": "stream",
     "text": [
      "/Users/mobeets/anaconda/lib/python2.7/site-packages/ipykernel/__main__.py:4: RuntimeWarning: divide by zero encountered in log10\n"
     ]
    },
    {
     "data": {
      "image/png": "[encoded data removed]",
      "text/plain": [
       "<Figure size 432x288 with 1 Axes>"
      ]
     },
     "metadata": {},
     "output_type": "display_data"
    }
   ],
   "source": [
    "xs = np.array([x.user.followers_count for x in rts])\n",
    "ys = np.array([x.favorite_count for x in rts])\n",
    "# ys = np.array([x.retweet_count for x in rts])\n",
    "xs = np.log10(xs); ys = np.log10(ys)\n",
    "plt.scatter(xs, ys)\n",
    "\n",
    "xst = range(1,9)\n",
    "plt.xticks(xst, ['$10^{{{0}}}$'.format(x) for x in xst], fontsize=fntsz)\n",
    "yst = range(0,9)\n",
    "plt.yticks(yst, ['$10^{}$'.format(x) for x in yst], fontsize=fntsz)\n",
    "\n",
    "plt.xlabel('# followers', fontsize=fntsz)\n",
    "plt.ylabel('# likes', fontsize=fntsz)\n",
    "plt.gca().axis('equal')\n",
    "plt.show()\n"
   ]
  },
  {
   "cell_type": "code",
   "execution_count": 260,
   "metadata": {
    "collapsed": false
   },
   "outputs": [
    {
     "name": "stdout",
     "output_type": "stream",
     "text": [
      "0.27677886641883775\n",
      "13\n"
     ]
    }
   ],
   "source": [
    "ts = sorted([1.0*t.favorite_count/t.user.followers_count for t in rts])\n",
    "ts = np.array(ts)\n",
    "\n",
    "# print np.sum([t for t in ])\n",
    "\n",
    "print np.mean(ts)\n",
    "print (ts > 1).sum()"
   ]
  },
  {
   "cell_type": "code",
   "execution_count": 88,
   "metadata": {
    "collapsed": false
   },
   "outputs": [
    {
     "name": "stdout",
     "output_type": "stream",
     "text": [
      "\"1115903411139088384\",\"2019-04-10 09:04:40\",\"377\",\"156\",\"micahgallen\",\"6895\",\"0.054677302393\",\"https://t.co/uHtAewpV6g\",\"What does the synthetic frog's heart tell it's Bayesian brain? Read our new pre-print \"In the Body's Eye: The Compu... https://t.co/uHtAewpV6g\"\n",
      "\"1220744422738014210\",\"2020-01-24 16:25:25\",\"42\",\"12\",\"AlkisMH\",\"144\",\"0.291666666667\",\"https://t.co/LnG4cSRXi0\",\"Our latest work with @adrianhaith and @blamlab is finally out on biorxiv! Here, we tackle the question: by which me... https://t.co/LnG4cSRXi0\"\n",
      "\"1220292368806510593\",\"2020-01-23 10:29:07\",\"3\",\"1\",\"kkilteni_neuro\",\"370\",\"0.00810810810811\",\"https://t.co/P27RGZggiP\",\"@BrainSelf @SfNJournals @MSCActions #tweeprint (1/n) We know that self-generated touch feels less intense and less... https://t.co/P27RGZggiP\"\n",
      "\"1220381873945313285\",\"2020-01-23 16:24:47\",\"64\",\"23\",\"TheCharleyWu\",\"482\",\"0.132780082988\",\"https://t.co/pYhzGgbVuB\",\"Recent findings suggest the brain uses domain-general encoding to structure experiences based on distance or simila... https://t.co/pYhzGgbVuB\"\n",
      "\"1220450897752399872\",\"2020-01-23 20:59:03\",\"42\",\"10\",\"raeedcho\",\"241\",\"0.174273858921\",\"https://t.co/eaXq1oEHdr\",\"I'm very excited to share that my work with @PresNCM and @joshuaiglaser on S1 representation of reaching is now pub... https://t.co/eaXq1oEHdr\"\n",
      "\"1220291152987021318\",\"2020-01-23 10:24:17\",\"40\",\"9\",\"kkilteni_neuro\",\"370\",\"0.108108108108\",\"https://t.co/zVbNeSOpTe\",\"Very very very happy for the first  paper of 2020 with @BrainSelf published at Journal of Neuroscience @SfNJournals... https://t.co/zVbNeSOpTe\"\n",
      "\"1220083254016921600\",\"2020-01-22 20:38:10\",\"28\",\"11\",\"Chris_Yang2\",\"23\",\"1.21739130435\",\"https://t.co/D0CfhpTp0O\",\"1/4: Pleased to announce that a preprint of our work exploring adaptation and de novo learning in a continuous cont... https://t.co/D0CfhpTp0O\"\n",
      "\"1130895226472677379\",\"2019-05-21 17:56:47\",\"40\",\"19\",\"csaviochan\",\"3401\",\"0.0117612466921\",\"https://t.co/IIFVQnA4xc\",\"The GPe is important for motor control but its precise involvement is unclear. A major challenge has been the ident... https://t.co/IIFVQnA4xc\"\n",
      "\"1219870997513457665\",\"2020-01-22 06:34:44\",\"473\",\"149\",\"BohacekLab\",\"938\",\"0.504264392324\",\"https://t.co/T3xma0VXpw\",\"Very happy to share our latest work! Frustrated with expensive and inflexible rodent behavior testing systems, we c... https://t.co/T3xma0VXpw\"\n",
      "\"1219815121750376448\",\"2020-01-22 02:52:42\",\"57\",\"23\",\"guy_bouvier\",\"324\",\"0.175925925926\",\"https://t.co/HLPqjtcl5M\",\"Do you want to figure out how both active and passive head movements impact your primary visual cortex activity. Ch... https://t.co/HLPqjtcl5M\"\n",
      "\"1219941852637470720\",\"2020-01-22 11:16:17\",\"86\",\"19\",\"Neubadah\",\"2954\",\"0.0291130670278\",\"https://t.co/ZCi2UfYS7h\",\"Hey you, do you like neurons? Like glia? Like them working together to build thalamic circuits?  I'm thrilled to sh... https://t.co/ZCi2UfYS7h\"\n",
      "\"1219735430716768258\",\"2020-01-21 21:36:02\",\"39\",\"16\",\"garrface\",\"432\",\"0.0902777777778\",\"https://t.co/UfFa5epQ7R\",\"Excited to have this paper out! Chemogenetic inhibition in the dorsal striatum reveals regional specificity of dire... https://t.co/UfFa5epQ7R\"\n",
      "\"1219614155491008512\",\"2020-01-21 13:34:08\",\"29\",\"12\",\"ek_kearney\",\"429\",\"0.0675990675991\",\"https://t.co/TqsfBSwQEW\",\"New #openaccess paper \"A Simple 3-Parameter Model for Examining Adaptation in Speech and Voice Production\" out in... https://t.co/TqsfBSwQEW\"\n",
      "\"1219617926820573184\",\"2020-01-21 13:49:07\",\"47\",\"17\",\"IceVisLab\",\"622\",\"0.0755627009646\",\"https://t.co/GwExdPCQgY\",\"Paper! The Architect Who Lost the Ability to Imagine: The Cerebral Basis of Visual Imagery: https://t.co/6eX7Olokal... https://t.co/GwExdPCQgY\"\n",
      "\"1219294228288811008\",\"2020-01-20 16:22:52\",\"206\",\"82\",\"AdrianAWanner\",\"197\",\"1.04568527919\",\"https://t.co/ljvYH5uTU7\",\"I am very excited, to finally share this: https://t.co/boNlW0Derd Using a functional #connectomics approach we unco... https://t.co/ljvYH5uTU7\"\n",
      "\"1219173416038584320\",\"2020-01-20 08:22:48\",\"130\",\"51\",\"mattshtrahman\",\"583\",\"0.222984562607\",\"https://t.co/D4fgY6ICwK\",\"Excited to share our first preprint \"AAV Ablates Neurogenesis in the Adult Murine Dentate Gyrus\" in collaboration w... https://t.co/D4fgY6ICwK\"\n",
      "\"1219268897616080899\",\"2020-01-20 14:42:12\",\"266\",\"123\",\"psychopy\",\"3278\",\"0.0811470408786\",\"https://t.co/96PQLg276T\",\"Finally out. Out timing mega-study: comparing a range of experiment generators, both lab-based and online  You can... https://t.co/96PQLg276T\"\n",
      "\"1219360755264512006\",\"2020-01-20 20:47:13\",\"370\",\"161\",\"gsxej\",\"1646\",\"0.224787363305\",\"https://t.co/Bh6Ji6CTgo\",\"Excited to share our @biorxivpreprint: #connectomics reconstruction of olfactory circuits in the #Drosophila brain... https://t.co/Bh6Ji6CTgo\"\n",
      "\"1218585772812570624\",\"2020-01-18 17:27:43\",\"791\",\"326\",\"IntlBrainLab\",\"2728\",\"0.28995601173\",\"https://t.co/qdwUhPzcYI\",\"After &gt;2 years of effort by our team in 7 labs, we present to you: 3 million choices from 101 mice in a standardize... https://t.co/qdwUhPzcYI\"\n",
      "\"1218546747548585989\",\"2020-01-18 14:52:38\",\"133\",\"50\",\"guitchounts\",\"580\",\"0.229310344828\",\"https://t.co/V0cnKzlu7l\",\"My paper is out on @biorxivpreprint! We explored movement signals in visual cortex and found a lot of surprising th... https://t.co/V0cnKzlu7l\"\n",
      "\"1218233204894773249\",\"2020-01-17 18:06:44\",\"144\",\"52\",\"rebecca_saxe\",\"4356\",\"0.0330578512397\",\"https://t.co/mtH1O28Lut\",\"New paper out today with Hilary Richardson, measuring brain responses during Theory of Mind in 125 children (includ... https://t.co/mtH1O28Lut\"\n",
      "\"1216948951959658497\",\"2020-01-14 05:03:34\",\"89\",\"31\",\"AcerbiLuigi\",\"904\",\"0.0984513274336\",\"https://t.co/iqRKFsXtaT\",\"New preprint with @basvanopheusden and @weijima01! arXiv: https://t.co/sFAZWNdvjQ code: https://t.co/v0m9xbuk1J  (t... https://t.co/iqRKFsXtaT\"\n",
      "\"1206560282488668165\",\"2019-12-16 13:02:42\",\"317\",\"158\",\"DrBreaky\",\"3138\",\"0.101019757808\",\"https://t.co/N8Yxabdss2\",\"1/6: Excited to share our new hierarchical atlas of human subcortex! 3T and 7T versions in CIFTI and NIFTI format.... https://t.co/N8Yxabdss2\"\n",
      "\"1218202528942301186\",\"2020-01-17 16:04:50\",\"172\",\"78\",\"ProfData\",\"3582\",\"0.0480178671133\",\"https://t.co/ziLbkjUux1\",\"New paper w @BDRoads, \"Learning as the Unsupervised Alignment of Conceptual Systems\". Supervised learning tasks can... https://t.co/ziLbkjUux1\"\n",
      "\"1218087311231111168\",\"2020-01-17 08:27:00\",\"46\",\"7\",\"lappalainenjk\",\"45\",\"1.02222222222\",\"https://t.co/wXWnXr9YW8\",\"Proud and humbled to have published my very first project in comp. neuroscience. My supervisor Christian asked me,... https://t.co/wXWnXr9YW8\"\n",
      "\"1217894410022793216\",\"2020-01-16 19:40:29\",\"237\",\"56\",\"SoleckiLab\",\"1042\",\"0.227447216891\",\"https://t.co/qiGBODzUZu\",\"Humbled to share our work w/ the Betzig and Hess labs @HHMIJanelia made @Sciencemagazine cover  Cerebellar granule... https://t.co/qiGBODzUZu\"\n",
      "\"1217768679963811840\",\"2020-01-16 11:20:53\",\"348\",\"80\",\"m_heilb\",\"779\",\"0.446726572529\",\"https://t.co/1Rvb6kPO1k\",\"The 1st paper of my PhD is out today in @NatureComms!  We show that word contexts can enhance letter representation... https://t.co/1Rvb6kPO1k\"\n",
      "\"1217860982804033537\",\"2020-01-16 17:27:39\",\"120\",\"26\",\"jillumine\",\"981\",\"0.122324159021\",\"https://t.co/PrxV6hVnAV\",\"Very excited to share our preprint:  The gamma-Protocadherins regulate the survival of GABAergic interneurons durin... https://t.co/PrxV6hVnAV\"\n",
      "\"1217925709340872704\",\"2020-01-16 21:44:51\",\"103\",\"31\",\"DavidZoltowski\",\"454\",\"0.226872246696\",\"https://t.co/E03H97PWzD\",\"Excited to share what @jpillowtime @scott_linderman and I have been working on recently! We unify and generalize st... https://t.co/E03H97PWzD\"\n",
      "\"1217849999721103368\",\"2020-01-16 16:44:01\",\"285\",\"114\",\"Yoav_Livneh\",\"525\",\"0.542857142857\",\"https://t.co/k1UrZYdfOg\",\"Our 2nd insula paper is out in @NeuroCellPress! We found that insular cortex represents current bodily state AND us... https://t.co/k1UrZYdfOg\"\n",
      "\"1151204048000946176\",\"2019-07-16 18:56:48\",\"29\",\"13\",\"LYTarhan\",\"165\",\"0.175757575758\",\"https://t.co/BfVmnN5Q8D 1/9\",\"A new pre-print with @talia_konkle is up on @biorxivpreprint! https://t.co/BfVmnN5Q8D 1/9\"\n",
      "\"1217266354828595200\",\"2020-01-15 02:04:49\",\"152\",\"74\",\"darbly\",\"238\",\"0.638655462185\",\"https://t.co/aqO5V3QTsG\",\"New @biorxivpreprint on synapse-resolution reconstruction of motor control circuits in the Drosophila ventral nerve... https://t.co/aqO5V3QTsG\"\n",
      "\"1216788369541234689\",\"2020-01-13 18:25:28\",\"63\",\"25\",\"Tomdonoghue\",\"1152\",\"0.0546875\",\"https://t.co/cxw5PZ9LHs\",\"NEW PREPRINT!  \"Electrophysiological Frequency Band Ratio Measures Conflate Periodic and Aperiodic Neural Activity\"... https://t.co/cxw5PZ9LHs\"\n",
      "\"1216759419490336768\",\"2020-01-13 16:30:26\",\"138\",\"31\",\"SachinPatelLab\",\"976\",\"0.141393442623\",\"https://t.co/5oLmlNPFEU\",\"Ecstatic to share grad student @TheDavidJMarcus and labmates' new paper online @NeuroCellPress this morning.   Show... https://t.co/5oLmlNPFEU\"\n",
      "\"1216494815363420160\",\"2020-01-12 22:59:00\",\"135\",\"31\",\"dlboebinger\",\"832\",\"0.162259615385\",\"https://t.co/Ayg2HG5hRv\",\"Super excited to be able to share a preprint of the first paper to come out of my PhD! We used @SamNormanH's method... https://t.co/Ayg2HG5hRv\"\n",
      "\"1216790181849649152\",\"2020-01-13 18:32:40\",\"89\",\"23\",\"rob_gk_munn\",\"163\",\"0.546012269939\",\"https://t.co/vonput62u8\",\"Hey, my paper's out! Give it a read, why don'tcha?  https://t.co/DVlJyEPRo4  We show that the speed signal and grid... https://t.co/vonput62u8\"\n",
      "\"1216725794854199296\",\"2020-01-13 14:16:49\",\"73\",\"27\",\"SmithLabNeuro\",\"246\",\"0.29674796748\",\"https://t.co/bHWQ9YMdAl\",\"I'm very happy to post my first #tweeprint about a new manuscript we've just put on @biorxivpreprint:... https://t.co/bHWQ9YMdAl\"\n",
      "\"1216393782687600644\",\"2020-01-12 16:17:31\",\"59\",\"18\",\"jdrugowitsch\",\"487\",\"0.121149897331\",\"https://t.co/04e6KjsuR0\",\"New @biorxivpreprint on the distribution of information across neurons of large neural populations, with MohammadMe... https://t.co/04e6KjsuR0\"\n",
      "\"1215750738351153152\",\"2020-01-10 21:42:18\",\"62\",\"23\",\"memming\",\"2527\",\"0.0245350217649\",\"https://t.co/I9oQgudoPM\",\"Fresh on @bioRxiv. Latent trajectory analysis of MT ensemble spike trains reveals mis-aligned subspaces of stimulus... https://t.co/I9oQgudoPM\"\n",
      "\"1215572496570896384\",\"2020-01-10 09:54:02\",\"102\",\"33\",\"TPVogels\",\"1744\",\"0.0584862385321\",\"https://t.co/8wcutECG2f\",\"We have a new paper on @biorxiv, up now. I wanted to call it \"Crushing the Hopfield limit\", but, sadly, I was overr... https://t.co/8wcutECG2f\"\n",
      "\"1215620270679044096\",\"2020-01-10 13:03:52\",\"167\",\"67\",\"TimKietzmann\",\"2353\",\"0.0709732256694\",\"https://t.co/EMQqNykqp0\",\"New preprint from the lab: \"Individual differences among deep neural network models.\"  https://t.co/3163m5hQXE  Wor... https://t.co/EMQqNykqp0\"\n",
      "\"1215346366752460808\",\"2020-01-09 18:55:28\",\"137\",\"48\",\"P_Anastasiades\",\"625\",\"0.2192\",\"https://t.co/Ru4QQWC8IT\",\"The next instalment of our PFC thalamo-cortical project is out on bioRxiv  It's got interneurons, rabies tracing,... https://t.co/Ru4QQWC8IT\"\n",
      "\"1215262550373388290\",\"2020-01-09 13:22:25\",\"35\",\"18\",\"ChristianPuller\",\"145\",\"0.241379310345\",\"https://t.co/AzkUoZeArG\",\"Our manuscript 'Electrical coupling of heterotypic ganglion cells in the mammalian retina' is available ahead of th... https://t.co/AzkUoZeArG\"\n",
      "\"1181637966210445319\",\"2019-10-08 18:30:19\",\"183\",\"70\",\"sfarris721\",\"828\",\"0.221014492754\",\"https://t.co/uMLSyqAiq8\",\"Excited to finally share our work looking at cell-specific dendritic transcriptomes in the hippocampus out today in... https://t.co/uMLSyqAiq8\"\n",
      "\"1214843312970063873\",\"2020-01-08 09:36:31\",\"60\",\"22\",\"LeoWaschke\",\"250\",\"0.24\",\"https://t.co/gh6NfLjli9\",\"Officially out: \"Local cortical desynchronization and pupil-linked arousal differentially shape brain states for op... https://t.co/gh6NfLjli9\"\n",
      "\"1214917819147726848\",\"2020-01-08 14:32:34\",\"20\",\"14\",\"Jeff_Weiler\",\"305\",\"0.0655737704918\",\"https://t.co/K1AwPN4pp9\",\"@paulgribble &amp; @andpru and I are excited to share our latest work on how spinal circuits contribute to efficient re... https://t.co/K1AwPN4pp9\"\n",
      "\"1192216630035509248\",\"2019-11-06 23:06:09\",\"120\",\"39\",\"takaki_komiyama\",\"1721\",\"0.0697269029634\",\"https://t.co/CMwCZuLSuF\",\"1/ New paper from the lab out online today in Neuron @NeuroCellPress. Congrats to Eun Jung Hwang and the team!... https://t.co/CMwCZuLSuF\"\n",
      "\"1214542392189054982\",\"2020-01-07 13:40:46\",\"463\",\"304\",\"DaniSBassett\",\"6213\",\"0.0745211652986\",\"https://t.co/CztdmCnZqB\",\"New from @jddwor Extent &amp; drivers of gender imbalance in neuroscience reference lists https://t.co/SuWFYbtIU3. w/... https://t.co/CztdmCnZqB\"\n",
      "\"1214524563045912576\",\"2020-01-07 12:29:55\",\"112\",\"42\",\"AdrienDoerig\",\"508\",\"0.220472440945\",\"https://t.co/q1toAZMHuX\",\"New paper out! We provide evidence that feedforward convnets (ffCNNs) cannot implement human-like global computatio... https://t.co/q1toAZMHuX\"\n",
      "\"1214605495031324672\",\"2020-01-07 17:51:30\",\"228\",\"45\",\"mohajerani77\",\"497\",\"0.458752515091\",\"https://t.co/YtYqe1jBKS\",\"1/ I'm pleased to share our new preprint (https://t.co/wGkRgxzXk8), wherein we have developed an open-source toolbo... https://t.co/YtYqe1jBKS\"\n",
      "\"1214536081636499456\",\"2020-01-07 13:15:41\",\"147\",\"52\",\"NeuroPolarbear\",\"3519\",\"0.0417732310315\",\"https://t.co/ACOv6lc1iG\",\"New lab paper today from @neuromochi, Cindy Tu, and @spiantado. We trained monkeys to play a simple continuous joys... https://t.co/ACOv6lc1iG\"\n",
      "\"1214271015481688064\",\"2020-01-06 19:42:24\",\"339\",\"66\",\"tristanshuman\",\"1301\",\"0.260568793236\",\"https://t.co/vgK68zHvoc\",\"Excited to share our paper out today in @NatureNeuro! We used in vivo electrophysiology and calcium imaging with Wi... https://t.co/vgK68zHvoc\"\n",
      "\"1214283300866609153\",\"2020-01-06 20:31:13\",\"418\",\"135\",\"SaraASolla\",\"1170\",\"0.357264957265\",\"https://t.co/icp11xfKiQ\",\"We are really happy to announce that our paper on 'Long-term stability of cortical population dynamics underlying c... https://t.co/icp11xfKiQ\"\n",
      "\"1109146266494066688\",\"2019-03-22 17:34:11\",\"521\",\"174\",\"jeroenphv\",\"1052\",\"0.495247148289\",\"https://t.co/4BHSJlOadh\",\"This dog can do a cool trick: balancing a cookie on her paws until she's told to eat it  I saw this at a birthday... https://t.co/4BHSJlOadh\"\n",
      "\"1204811446443528194\",\"2019-12-11 17:13:27\",\"69\",\"28\",\"NeuroPolarbear\",\"3519\",\"0.0196078431373\",\"https://t.co/WhBN00MlPT\",\"Very excited about this new paper led by @neuromochi. If you read this brief thread you hereby are excused from rea... https://t.co/WhBN00MlPT\"\n",
      "\"1212834719374757888\",\"2020-01-02 20:35:05\",\"143\",\"55\",\"tmacrina\",\"101\",\"1.41584158416\",\"https://t.co/OUCzd4L4AP\",\"HNY and 1st discovery from mouse V1 serial section EM dataset! https://t.co/fX8aBLo5iQ Largest wiring diagram yet b... https://t.co/OUCzd4L4AP\"\n",
      "\"1209888342801821696\",\"2019-12-25 17:27:14\",\"42\",\"14\",\"Aman_Badhwar\",\"1052\",\"0.0399239543726\",\"https://t.co/lfs9inzDL8\",\"Multivariate consistency of resting-state fMRI connectivity maps acqui...  https://t.co/lfs9inzDL8\"\n",
      "\"1209178605525372928\",\"2019-12-23 18:26:59\",\"31\",\"11\",\"peabody124\",\"658\",\"0.0471124620061\",\"https://t.co/SjTmoqnRoI\",\"Likelihood functions encoded in the primary visual cortex better predict decision making under uncertainty than poi... https://t.co/SjTmoqnRoI\"\n",
      "\"1209898445596766208\",\"2019-12-25 18:07:22\",\"570\",\"203\",\"bsauerbrei1\",\"980\",\"0.581632653061\",\"https://t.co/vfePzsEGCb\",\"1/n Motor cortex controls the arm by sending neural activity patterns to the spinal cord and brainstem. But how are... https://t.co/vfePzsEGCb\"\n",
      "\"1209480347517411335\",\"2019-12-24 14:26:00\",\"32\",\"9\",\"fredericcrevec1\",\"519\",\"0.0616570327553\",\"https://t.co/s9oteLjuW6\",\"Very pleased that this #Preprint has been accepted for publication at eNeuro @SfNJournals. Imagine your fave model... https://t.co/s9oteLjuW6\"\n",
      "\"1209241931143888898\",\"2019-12-23 22:38:37\",\"164\",\"67\",\"rob_gulli\",\"204\",\"0.803921568627\",\"https://t.co/ZdAhsQr8GB\",\"#tweeprint! Have you ever wanted to learn about spatial and non-spatial hippocampal function, especially in primate... https://t.co/ZdAhsQr8GB\"\n",
      "\"1106195407456161792\",\"2019-03-14 14:08:31\",\"96\",\"33\",\"rishi_raj\",\"390\",\"0.246153846154\",\"https://t.co/9RpEKqH0xn\",\"Glad to share my thesis work with @JamesJDiCarlo on the effect of focal inactivations of primate IT cortex on objec... https://t.co/9RpEKqH0xn\"\n",
      "\"1092577559886397440\",\"2019-02-05 00:16:04\",\"209\",\"86\",\"schoppik\",\"5418\",\"0.0385751199705\",\"https://t.co/G5BqaHUD4X\",\"Would you believe baby fish can teach us how movement develops?  Amazingly, we found that a sense of balance is KEY... https://t.co/G5BqaHUD4X\"\n",
      "\"1208147031023210496\",\"2019-12-20 22:07:53\",\"97\",\"21\",\"elibpollock\",\"260\",\"0.373076923077\",\"https://t.co/nuAw8CPLc9\",\"Excited to post my preprint about RNNs, dynamics, and #manifolds! https://t.co/c2fuCeJliv  Here's a quick... https://t.co/nuAw8CPLc9\"\n",
      "\"1207540231634915328\",\"2019-12-19 05:56:40\",\"73\",\"15\",\"martin_a_vinck\",\"679\",\"0.107511045655\",\"https://t.co/OQhQlFMjI2\",\"1/ After a decade(!) finally published my first PhD project...  My conclusion: Dorsal hippocampus CA1 does not enco... https://t.co/OQhQlFMjI2\"\n",
      "\"1207348895854006272\",\"2019-12-18 17:16:22\",\"263\",\"93\",\"ArminLak\",\"906\",\"0.290286975717\",\"https://t.co/tBFiGwRcUc\",\"Our work is published today at @NeuroCellPress. With @michael_okun, @morganemoss, @HarshaGurnani, @KarolinaFarrel,... https://t.co/tBFiGwRcUc\"\n",
      "\"1207400107454263296\",\"2019-12-18 20:39:52\",\"397\",\"99\",\"MariRSosa\",\"349\",\"1.13753581662\",\"https://t.co/djtJXpN5HP\",\"1/ Very happy to share that my main PhD paper is out in @NeuroCellPress! We used simultaneous neural recordings in... https://t.co/djtJXpN5HP\"\n",
      "\"1206535867831083008\",\"2019-12-16 11:25:41\",\"227\",\"93\",\"hippopedoid\",\"203\",\"1.11822660099\",\"https://t.co/4wiZmTL5vw\",\"\"The art of using t-SNE for single-cell transcriptomics\" by @CellTypist and myself was published two weeks ago:... https://t.co/4wiZmTL5vw\"\n",
      "\"1205695892717621248\",\"2019-12-14 03:47:56\",\"154\",\"44\",\"neurograce\",\"6508\",\"0.0236631837738\",\"https://t.co/mTchFljTrU\",\"I have a new paper with Dan Rubin &amp; @kendmil on biorxiv! \"A simple circuit model of visual cortex explains neural a... https://t.co/mTchFljTrU\"\n",
      "\"1187653904919597057\",\"2019-10-25 08:55:31\",\"56\",\"18\",\"BeleyurThejasvi\",\"449\",\"0.124721603563\",\"https://t.co/Kg8Vu4nS9B\",\"Hello World.  I am happy to share the first manuscript of my PhD up on @biorxivpreprint   link :... https://t.co/Kg8Vu4nS9B\"\n",
      "\"1205901251029995520\",\"2019-12-14 17:23:57\",\"47\",\"14\",\"schroeder_ke\",\"167\",\"0.281437125749\",\"https://t.co/g3VH0Ira9L\",\"New preprint! With co-1st Sean Perkins, Qi Wang, and @MarkChurchland. Brief summary: [1/5] https://t.co/g3VH0Ira9L\"\n",
      "\"1205298488650584064\",\"2019-12-13 01:28:47\",\"410\",\"151\",\"tim_sainburg\",\"429\",\"0.955710955711\",\"https://t.co/89wzaMzBG1\",\"Just posted a paper on biorxiv about using latent models to visualize, quantify, and synthesize animal vocalization... https://t.co/89wzaMzBG1\"\n",
      "\"1205092703098351617\",\"2019-12-12 11:51:04\",\"101\",\"48\",\"markdhumphries\",\"4261\",\"0.0237033560197\",\"https://t.co/0RpztII0qb\",\"Latest pre-print from us (inc. @mathewe), on a simple question.   How do your inferences about neural activity, cor... https://t.co/0RpztII0qb\"\n",
      "\"1204421828363599872\",\"2019-12-10 15:25:15\",\"36\",\"12\",\"jdlieber\",\"203\",\"0.177339901478\",\"https://t.co/hmV8DpePb2\",\"1/9 New work out in Cerebral Cortex, from myself and @slimanjbensmaia, on how neural representations of tactile tex... https://t.co/hmV8DpePb2\"\n",
      "\"1204480454415527944\",\"2019-12-10 19:18:13\",\"29\",\"7\",\"jaimeibper\",\"73\",\"0.397260273973\",\"https://t.co/QiYYLwlFJW\",\"Happy that, after having made it to \"The List\" (aka #superlabreadinglist), our study on corticospinal changes in pr... https://t.co/QiYYLwlFJW\"\n",
      "\"1203437971950755842\",\"2019-12-07 22:15:45\",\"92\",\"23\",\"MoRezaK\",\"47\",\"1.95744680851\",\"https://t.co/9yLTJ28F15\",\"Excited to present at #NeurIPS2019 this week!! I identify challenges in hyperparameter search when training sequent... https://t.co/9yLTJ28F15\"\n",
      "\"1203182147713978369\",\"2019-12-07 05:19:12\",\"69\",\"20\",\"dileeplearning\",\"2167\",\"0.0318412551915\",\"https://t.co/gmC6HBdRcn\",\"Are you skeptical about successor representations? Want to know how our new model can learn cognitive maps, context... https://t.co/gmC6HBdRcn\"\n",
      "\"1202973083386208256\",\"2019-12-06 15:28:27\",\"373\",\"122\",\"YangfanPeng\",\"168\",\"2.22023809524\",\"https://t.co/8Yiazt293o\",\"1/4 Want to probe over 100 synaptic connections at once? Check out our new paper @eLife with @FMittermaier on how t... https://t.co/8Yiazt293o\"\n",
      "\"1202608248534077440\",\"2019-12-05 15:18:44\",\"1005\",\"267\",\"TheGregYang\",\"2574\",\"0.390442890443\",\"https://t.co/PNkEQ8wteb\",\"1/ Why do wide, random neural networks form Gaussian processes, *regardless of architecture*? Let me give an overvi... https://t.co/PNkEQ8wteb\"\n",
      "\"1201575787100561408\",\"2019-12-02 18:56:06\",\"841\",\"241\",\"Mitchnw\",\"359\",\"2.3426183844\",\"https://t.co/x3Gh2tRovJ\",\"What's hidden in an overparameterized neural network with random weights? If the distribution is properly scaled (e... https://t.co/x3Gh2tRovJ\"\n",
      "\"1201873674497855489\",\"2019-12-03 14:39:48\",\"238\",\"68\",\"sylvain_baillet\",\"1414\",\"0.168316831683\",\"https://t.co/UGanaOWanA\",\"Very proud of our paper just published in @NeuroCellPress, a heroic effort by @pwdonh.   2 reasons:  1) I believe t... https://t.co/UGanaOWanA\"\n",
      "\"1201163152399962112\",\"2019-12-01 15:36:26\",\"78\",\"14\",\"kylepblum\",\"121\",\"0.644628099174\",\"https://t.co/lxOANrrIL3\",\"I'm really excited to announce our new preprint, where we use first-principles of muscle and neuron biophysics to e... https://t.co/lxOANrrIL3\"\n",
      "\"1200149755877347333\",\"2019-11-28 20:29:34\",\"758\",\"286\",\"CellTypist\",\"1283\",\"0.590802805924\",\"https://t.co/0HEut6rqBi\",\"t-SNE is widely used for single cell transcriptomics visualizations. getting good visualizations especially with la... https://t.co/0HEut6rqBi\"\n",
      "\"1199796594649911297\",\"2019-11-27 21:06:13\",\"523\",\"226\",\"SteinmetzNeuro\",\"2362\",\"0.221422523285\",\"https://t.co/FOrgaazIB1\",\"Our work on 'Distributed coding of choice, action, and engagement across the mouse brain' is published today in Nat... https://t.co/FOrgaazIB1\"\n",
      "\"1199077330511171585\",\"2019-11-25 21:28:08\",\"390\",\"133\",\"neuroecology\",\"12253\",\"0.0318289398515\",\"https://t.co/EVGjGHOt1M\",\"How do internal states shape an animal's behavior? How do you even know what state an animal is in?  My paper with... https://t.co/EVGjGHOt1M\"\n",
      "\"1198394188481671168\",\"2019-11-24 00:13:34\",\"204\",\"74\",\"TalGolanNeuro\",\"345\",\"0.591304347826\",\"https://t.co/ygyR0aXKPN\",\"New paper: Deep net models have many parameters, which enable them to flexibly fit data. As a result, qualitatively... https://t.co/ygyR0aXKPN\"\n",
      "\"1198913442029211648\",\"2019-11-25 10:36:53\",\"36\",\"10\",\"kkilteni_neuro\",\"370\",\"0.0972972972973\",\"https://t.co/8e8C6B3I5W\",\"New paper out with @CHouborg and Henrik Ehrsson from @BrainSelf to learn and unlearn sensory delays in self-touch:... https://t.co/8e8C6B3I5W\"\n",
      "\"1197873944692449287\",\"2019-11-22 13:46:18\",\"55\",\"20\",\"Samuel_J_Sober\",\"1229\",\"0.0447518307567\",\"https://t.co/S7dpyRNZVT\",\"What do we want as computational biologists?   To understand how low-level patterns (spike trains, amino acids seqs... https://t.co/S7dpyRNZVT\"\n",
      "\"1197636829002043393\",\"2019-11-21 22:04:05\",\"94\",\"45\",\"BoninLab\",\"297\",\"0.316498316498\",\"https://t.co/uhJUlh0jaU\",\"Check out our new paper on how to study *human* cortical neuron development, migration, growth, and circuit formati... https://t.co/uhJUlh0jaU\"\n",
      "\"1197679555000930304\",\"2019-11-22 00:53:52\",\"420\",\"107\",\"kaymtye\",\"12764\",\"0.0329050454403\",\"https://t.co/kRvmDsO2eS\",\"Thrilled our paper  \"A cortical-brainstem circuit predicts and governs compulsive alcohol drinking\"  dropped in... https://t.co/kRvmDsO2eS\"\n",
      "\"1197822633796079618\",\"2019-11-22 10:22:25\",\"30\",\"12\",\"HerffC\",\"178\",\"0.168539325843\",\"https://t.co/oXNZwifT8E\",\"After much too long, our article (with @UniBremenCSL @emilymugler @ASPENLABVCU @MattGoldrick and @SlutzkyLab ) is f... https://t.co/oXNZwifT8E\"\n",
      "\"1197596013248180224\",\"2019-11-21 19:21:54\",\"242\",\"62\",\"yvetteefisher\",\"572\",\"0.423076923077\",\"https://t.co/ZZ2timnQ8g\",\"How are ever-changing visual surroundings incorporated into the fly's sense of direction? See our latest paper:... https://t.co/ZZ2timnQ8g\"\n",
      "\"1197185558050533383\",\"2019-11-20 16:10:54\",\"759\",\"256\",\"jvoigts\",\"996\",\"0.762048192771\",\"https://t.co/oFZT1HigLQ\",\"Our first paper on sub-cellular cortical function in realistic-ish navigation behavior: https://t.co/10QqBfvAYZ We... https://t.co/oFZT1HigLQ\"\n",
      "\"1196808278929526786\",\"2019-11-19 15:11:43\",\"352\",\"147\",\"jrking0\",\"1568\",\"0.224489795918\",\"https://t.co/4gGFclxBeY\",\"\"The Human Brain encodes a Chronicle of Visual Events at each Instant of Time\", by @valentinwyart  and I: the tl;dr... https://t.co/4gGFclxBeY\"\n",
      "\"1196472193351241731\",\"2019-11-18 16:56:14\",\"269\",\"97\",\"Franklandlab\",\"3491\",\"0.0770552850186\",\"https://t.co/OMHlZve8k2\",\"A new paper from our lab: Disruption of Oligodendrogenesis Impairs Memory Consolidation in Adult Mice... https://t.co/OMHlZve8k2\"\n",
      "\"1196451441084420097\",\"2019-11-18 15:33:47\",\"39\",\"21\",\"rodrigo_maeda\",\"301\",\"0.129568106312\",\"https://t.co/VGgTmRBcpP\",\"New preprint with @andpru @paulgribble using @KINARMLab to go from feedback to feedforward control. #tweeprint belo... https://t.co/VGgTmRBcpP\"\n",
      "\"1195007117498998784\",\"2019-11-14 15:54:33\",\"36\",\"28\",\"BecketEbs\",\"207\",\"0.173913043478\",\"https://t.co/WUXxWHDuZI\",\"New paper out in @PLOSCompBiol: \"Tonic exploration governs both flexibility and lapses\" with @Neuropolarbear,... https://t.co/WUXxWHDuZI\"\n",
      "\"1195305417217380354\",\"2019-11-15 11:39:53\",\"1168\",\"608\",\"giacomolivan\",\"377\",\"3.09814323607\",\"https://t.co/kSSC7W2m5w\",\"1\\Really excited to share our latest paper, out today in @NatureComms! It's joint work with @WeihuaLi11,... https://t.co/kSSC7W2m5w\"\n",
      "\"1195716982131347459\",\"2019-11-16 14:55:18\",\"46\",\"13\",\"Leorkatz\",\"181\",\"0.254143646409\",\"https://t.co/jrPj97rHhV\",\"First paper from postdoc is on #bioRxiv! We've identified a new region in temporal cortex that reflects both attent... https://t.co/jrPj97rHhV\"\n",
      "\"1195543915635576833\",\"2019-11-16 03:27:36\",\"1000\",\"547\",\"tschonberg\",\"354\",\"2.82485875706\",\"https://t.co/kplmje3mf4\",\"Ever wondered what would happen if 70 different groups analyzed the same fMRI dataset? The pre-print of our... https://t.co/kplmje3mf4\"\n",
      "\"1188097674622443520\",\"2019-10-26 14:18:54\",\"7\",\"5\",\"rrangana1\",\"942\",\"0.00743099787686\",\"https://t.co/PaLsWlOTyl\",\"Our latest preprint on haptic assistance, redundancy and motor learning is out: https://t.co/PaLsWlOTyl\"\n",
      "\"1195440041545175040\",\"2019-11-15 20:34:50\",\"115\",\"40\",\"jdrugowitsch\",\"487\",\"0.23613963039\",\"https://t.co/0y5RPLXfIk\",\"I'm happy to announce the publication of \"Learning optimal decisions with confidence\" with Andre Mendonca, @zmainen... https://t.co/0y5RPLXfIk\"\n",
      "\"1195357777201418240\",\"2019-11-15 15:07:57\",\"43\",\"12\",\"RobertRosenba14\",\"133\",\"0.323308270677\",\"https://t.co/DQBdoUdMYp\",\"Excited to share a new preprint by students Vicky Zhu @VickyZh56619891 and Cody Baker  https://t.co/FdjBH8kzMM Exci... https://t.co/DQBdoUdMYp\"\n",
      "\"1194768762798522368\",\"2019-11-14 00:07:25\",\"83\",\"31\",\"skwinnicki\",\"4231\",\"0.0196171117939\",\"https://t.co/ZwIgFreHBY\",\"Because I like the #SciComm comic I made for my new paper here is each panel separately so you don't have to zoom a... https://t.co/ZwIgFreHBY\"\n",
      "\"1191452099189657600\",\"2019-11-04 20:28:11\",\"194\",\"61\",\"mjhigley\",\"1072\",\"0.180970149254\",\"https://t.co/2LgzYoF5OZ\",\"Our latest hugely collaborative effort to understand functional connectivity of cortical networks is finally out!... https://t.co/2LgzYoF5OZ\"\n",
      "\"1194774477248184321\",\"2019-11-14 00:30:07\",\"34\",\"12\",\"avraham_guy\",\"232\",\"0.146551724138\",\"https://t.co/BhwT2ylr0P\",\"New paper in @JNeurophysiol: \"Environmental Consistency Modulation of Error Sensitivity During Motor Adaptation is... https://t.co/BhwT2ylr0P\"\n",
      "\"1194316946931621889\",\"2019-11-12 18:12:04\",\"179\",\"82\",\"jakhmack\",\"1858\",\"0.0963401506997\",\"https://t.co/NkVf4p7UVx\",\"New: \"Training deep neural density estimators to identify mechanistic models of neural dynamics\"... https://t.co/NkVf4p7UVx\"\n",
      "\"1193927466680754176\",\"2019-11-11 16:24:24\",\"143\",\"46\",\"QasimEtal\",\"204\",\"0.700980392157\",\"https://t.co/buOIAc3fh5\",\"Happy to share my first graduate school paper with @neurojosh, out today in @NatureNeuro (https://t.co/5gVjrGok8o):... https://t.co/buOIAc3fh5\"\n",
      "\"1191410637651341317\",\"2019-11-04 17:43:26\",\"45\",\"26\",\"_mlechha\",\"161\",\"0.27950310559\",\"https://t.co/0vIqXLuOOf\",\"What can we say about the dynamics of an animal's behavior from experimental recordings? Excited to announce a prep... https://t.co/0vIqXLuOOf\"\n",
      "\"1191791976955297792\",\"2019-11-05 18:58:44\",\"159\",\"55\",\"BOlveczky\",\"1155\",\"0.137662337662\",\"https://t.co/G5Wt8Dvp6W\",\"(Thread) Proud to present two recent papers from the lab on how the basal ganglia contribute to motor skills. All c... https://t.co/G5Wt8Dvp6W\"\n",
      "\"1189652360416702472\",\"2019-10-30 21:16:40\",\"114\",\"36\",\"ostojic_srdjan\",\"815\",\"0.139877300613\",\"https://t.co/MKsjQCH7hv\",\"New paper:  a novel set of methods to efficiently fit spiking circuit models to single-trial spike trains. Congratu... https://t.co/MKsjQCH7hv\"\n",
      "\"1189579873637031937\",\"2019-10-30 16:28:37\",\"92\",\"36\",\"canalesjohnson\",\"514\",\"0.178988326848\",\"https://t.co/z7nENDm9to\",\"1/8: Really proud to share our new pre-print with such a great group of collaborators! \"Broadband Signal Rather tha... https://t.co/z7nENDm9to\"\n",
      "\"1189898714229305344\",\"2019-10-31 13:35:35\",\"140\",\"70\",\"AllenInstitute\",\"38531\",\"0.00363343801095\",\"https://t.co/h6E0w7MRe0\",\"In a new study out in @nature, our researchers make a big step forward in our quest to map the brain. Study finding... https://t.co/h6E0w7MRe0\"\n",
      "\"1189340281046474752\",\"2019-10-30 00:36:34\",\"1291\",\"346\",\"hardmaru\",\"72300\",\"0.0178561549101\",\"https://t.co/72TQGqjpLC\",\"Learning to Predict Without Looking Ahead: World Models Without Forward Prediction  Rather than hardcoding forward... https://t.co/72TQGqjpLC\"\n",
      "\"1188825965918601217\",\"2019-10-28 14:32:52\",\"30\",\"5\",\"GiacomoAriani\",\"219\",\"0.13698630137\",\"https://t.co/w8eJzk7jqX\",\"Out now! New preprint on the effects of repetition on performance in sequence production  https://t.co/xBMrPLl5Ef... https://t.co/w8eJzk7jqX\"\n",
      "\"1189160710724558851\",\"2019-10-29 12:43:01\",\"314\",\"128\",\"Samuel_J_Sober\",\"1229\",\"0.255492270138\",\"https://t.co/V2uFa0jK7y\",\"So let's say you record 100 neurons from each of 5 animals in response to 2 different stimuli...  or count dendriti... https://t.co/V2uFa0jK7y\"\n",
      "\"1186950210083315712\",\"2019-10-23 10:19:17\",\"48\",\"22\",\"marco_bocchio\",\"180\",\"0.266666666667\",\"https://t.co/rYmNrsfkjX\",\"1/ #tweeprint time! If you are interested in #interneurons, #hippocampus and developmental mechanisms of neural cir... https://t.co/rYmNrsfkjX\"\n",
      "\"1185274981032185856\",\"2019-10-18 19:22:31\",\"565\",\"177\",\"json_dirs\",\"697\",\"0.810616929699\",\"https://t.co/41PI0R1HFY\",\"Today we're releasing Autopilot - a Python framework for performing complex behavioral experiments by distributing... https://t.co/41PI0R1HFY\"\n",
      "\"1185248774576316422\",\"2019-10-18 17:38:23\",\"103\",\"27\",\"SpecificAmes\",\"189\",\"0.544973544974\",\"https://t.co/Io8xgmLjzF\",\"I'm excited to say that my paper with @MarkChurchland  was published in @eLife last week! (https://t.co/XvOKxUlYmE)... https://t.co/Io8xgmLjzF\"\n",
      "\"1183776527667924993\",\"2019-10-14 16:08:12\",\"15\",\"5\",\"parrell\",\"362\",\"0.0414364640884\",\"https://t.co/drENfmWqTh\",\"Models and theories of speech motor control generally fall into one of two camps: models based on optimizing motor... https://t.co/drENfmWqTh\"\n",
      "\"1183749378454016001\",\"2019-10-14 14:20:19\",\"187\",\"64\",\"samamckenzie\",\"540\",\"0.346296296296\",\"https://t.co/OWPcOI5VaW\",\"I am pleased to share with you our findings on the flexibility of hippocampal circuits to rapidly encode arbitrary... https://t.co/OWPcOI5VaW\"\n",
      "\"1183149425360822272\",\"2019-10-12 22:36:19\",\"183\",\"72\",\"tyrell_turing\",\"6805\",\"0.026891991183\",\"https://t.co/1NVayn9loT\",\"1/ New tweeprint from my lab! This one is work done by the amazing @guerguiev, and was inspired by the work of... https://t.co/1NVayn9loT\"\n",
      "\"1181983959686799360\",\"2019-10-09 17:25:10\",\"118\",\"51\",\"morganneuro\",\"283\",\"0.416961130742\",\"https://t.co/QpEP71dnAt\",\"A paper I've been wanting to write for over a decade is finally out in @NeuroCellPress: A Modular Approach to Vocal... https://t.co/QpEP71dnAt\"\n",
      "\"1181522311180144642\",\"2019-10-08 10:50:45\",\"44\",\"20\",\"Timothy0Leary\",\"653\",\"0.0673813169985\",\"https://t.co/sPbVxNcako\",\"Neural activation in repeated, learned tasks drifts continually over days, which seems to be a problem for encoding... https://t.co/sPbVxNcako\"\n",
      "\"1181524229981949952\",\"2019-10-08 10:58:22\",\"73\",\"34\",\"cole_hurwitz\",\"219\",\"0.333333333333\",\"https://t.co/9rqnaqoHUM\",\"After over a year of hard work, we have finally released stable packages and written a preprint for SpikeInterface!... https://t.co/9rqnaqoHUM\"\n",
      "\"1181254434636140545\",\"2019-10-07 17:06:18\",\"217\",\"75\",\"mjaztwit\",\"1443\",\"0.150381150381\",\"https://t.co/K0vVqfV9oe\",\"Our most recent work on \"computation-through-dynamics.\" We propose that cognitive control  can be understood in ter... https://t.co/K0vVqfV9oe\"\n",
      "\"1181353810456743937\",\"2019-10-07 23:41:11\",\"53\",\"12\",\"tuxedocat\",\"205\",\"0.258536585366\",\"https://t.co/DJphkZ0rWD\",\"I'm please to share our new paper, Creating a neuroprosthesis for active tactile exploration of textures, with... https://t.co/DJphkZ0rWD\"\n",
      "\"1181110124661936129\",\"2019-10-07 07:32:52\",\"5\",\"4\",\"HerffC\",\"178\",\"0.0280898876404\",\"https://t.co/hsGgAyQj05\",\"And a new #tweeprint out with @jeroenhabets1, @DigNeurosurgeon Mark Janssen and others: \"Machine learning predictio... https://t.co/hsGgAyQj05\"\n",
      "\"1179785408886067201\",\"2019-10-03 15:48:55\",\"37\",\"8\",\"jaimeibper\",\"73\",\"0.506849315068\",\"https://t.co/Pn7VqS4oZj\",\"New article out: \"Corticospinal excitability modulation by pairing peripheral nerve stimulation with cortical state... https://t.co/Pn7VqS4oZj\"\n",
      "\"1179820175249399808\",\"2019-10-03 18:07:04\",\"177\",\"61\",\"StefanoBrigidi\",\"212\",\"0.834905660377\",\"https://t.co/5d3h5OWO6I\",\"Truly thrilled to drop this thread for you all about our paper out today in @CellCellPress... https://t.co/5d3h5OWO6I\"\n",
      "\"1179775366094823424\",\"2019-10-03 15:09:01\",\"88\",\"27\",\"brettlfoster\",\"1647\",\"0.05343047966\",\"https://t.co/RaOUI5oCij\",\"1/6: Excited to share the first paper from my lab! \"Functionally distinct gamma range activity revealed by stimulus... https://t.co/RaOUI5oCij\"\n",
      "\"1179372204842213376\",\"2019-10-02 12:26:59\",\"5\",\"4\",\"HerffC\",\"178\",\"0.0280898876404\",\"https://t.co/dqK2t5vFBh\",\"New pre-print out \"Prefrontal high-gamma in ECoG tags periodicity of musical rhythms in perception and imagination\"... https://t.co/dqK2t5vFBh\"\n",
      "\"1179132702819266560\",\"2019-10-01 20:35:18\",\"29\",\"8\",\"rmpnegrinho\",\"204\",\"0.142156862745\",\"https://t.co/gKkKIfRs0Z\",\"I'm thrilled to finally announce the release of DeepArchitect, a modular and programmable architecture search frame... https://t.co/gKkKIfRs0Z\"\n",
      "\"1178677942051835904\",\"2019-09-30 14:28:14\",\"284\",\"51\",\"brandondamos\",\"7171\",\"0.039603960396\",\"https://t.co/AgdAlBsrYX\",\"Excited to share my first paper with @facebookai:  The Differentiable Cross-Entropy Method with @denisyarats  Paper... https://t.co/AgdAlBsrYX\"\n",
      "\"1178750582053466113\",\"2019-09-30 19:16:53\",\"63\",\"19\",\"50kDinar\",\"236\",\"0.266949152542\",\"https://t.co/SxqVIrAB94\",\"time for a #tweeprint!   Our study of human executive function is out in @NatureNeuro today:   https://t.co/SxqVIrAB94\"\n",
      "\"1178951063350779905\",\"2019-10-01 08:33:32\",\"172\",\"72\",\"kellybclancy\",\"1637\",\"0.105070250458\",\"https://t.co/hLyQHjWo4o\",\"Thread: I'm pleased to share my new paper, wherein we devised a novel optical brain machine interface (BMI) to inve... https://t.co/hLyQHjWo4o\"\n",
      "\"1178720590724845569\",\"2019-09-30 17:17:43\",\"84\",\"39\",\"RobertMHardwick\",\"466\",\"0.18025751073\",\"https://t.co/B64I3Hu51D\",\"1/n: Delighted that our latest paper \"Time-dependent competition between goal-directed and habitual response select... https://t.co/B64I3Hu51D\"\n",
      "\"1177012994766540800\",\"2019-09-26 00:12:20\",\"84\",\"24\",\"TrackingActions\",\"4948\",\"0.0169765561843\",\"https://t.co/4YhdPhCkYi\",\"One challenge in pose estimation is robustness, especially for small datasets. We want DNNs to generalize to things... https://t.co/4YhdPhCkYi\"\n",
      "\"1177178989200334851\",\"2019-09-26 11:11:56\",\"123\",\"59\",\"criticalneuro\",\"3683\",\"0.033396687483\",\"https://t.co/xjpCjf93WJ\",\"Thrilled to share new work w Stacey Sinclair &amp; @profcikara! Computational Justice: Simulating Structural Bias and I... https://t.co/xjpCjf93WJ\"\n",
      "\"1177016333436772353\",\"2019-09-26 00:25:36\",\"41\",\"11\",\"wormsense\",\"1396\",\"0.0293696275072\",\"https://t.co/P8qbdjZvAp\",\"#tweeprint #WormWednesday: Ever wonder how the energy carried in a touch reaches sensory neurons and activates mech... https://t.co/P8qbdjZvAp\"\n",
      "\"1176864712463699968\",\"2019-09-25 14:23:07\",\"162\",\"57\",\"EricMTrautmann\",\"651\",\"0.248847926267\",\"https://t.co/umSQ5rFijz\",\"Our new preprint is now up! Online decoding of arm reach direction using 2P calcium imaging in NHP with @djoshea, X... https://t.co/umSQ5rFijz\"\n",
      "\"1176836320985014273\",\"2019-09-25 12:30:18\",\"122\",\"48\",\"arisbenjamin\",\"331\",\"0.368580060423\",\"https://t.co/2p1YjBpqtN\",\"New preprint! Does V4's tuning to hue on artificial stimuli tell us about its tuning to hue on natural images? Not... https://t.co/2p1YjBpqtN\"\n",
      "\"1148488256876679168\",\"2019-07-09 07:05:12\",\"36\",\"8\",\"jdrugowitsch\",\"487\",\"0.0739219712526\",\"https://t.co/mjRrOSsrhu\",\"We are out with a new, slightly more technical than usual, preprint on how to find closed-form solutions to Fokker-... https://t.co/mjRrOSsrhu\"\n",
      "\"1174932700769046528\",\"2019-09-20 06:25:59\",\"14\",\"4\",\"fredericcrevec1\",\"519\",\"0.0269749518304\",\"https://t.co/mVdlVnOuFP\",\"#tweeprint time: rapid feedback adaptation to force field of different direction and different kinds in 250ms (thre... https://t.co/mVdlVnOuFP\"\n",
      "\"1174707690314096640\",\"2019-09-19 15:31:53\",\"127\",\"50\",\"AheadOfTheNerve\",\"576\",\"0.220486111111\",\"https://t.co/I4FbsACxPm\",\"1/ Woo! My monster paper with Matt Wilson, \"Locomotor and Hippocampal Processing Converge in the Lateral Septum\" wa... https://t.co/I4FbsACxPm\"\n",
      "\"1173618458204004352\",\"2019-09-16 15:23:39\",\"254\",\"123\",\"jwphillips91\",\"312\",\"0.814102564103\",\"https://t.co/UuKhAV7j0W\",\"#PaperTweet time :). How is the central communication hub of the brain, thalamus, organised? Our team investigated... https://t.co/UuKhAV7j0W\"\n",
      "\"1172990672196055042\",\"2019-09-14 21:49:04\",\"350\",\"126\",\"tyrell_turing\",\"6805\",\"0.051432770022\",\"https://t.co/nXfUINyQfY\",\"1/ #tweeprint time everybody! It's about neural coding (and I mean that literally). We asked the following Q: if in... https://t.co/nXfUINyQfY\"\n",
      "\"1172265511708762112\",\"2019-09-12 21:47:32\",\"104\",\"43\",\"jordwynn\",\"224\",\"0.464285714286\",\"https://t.co/5X8jcwqgX0\",\"Our new preprint showing that eye movements can support memory retrieval by reinstating or \"pattern completing\" enc... https://t.co/5X8jcwqgX0\"\n",
      "\"1171733150193659910\",\"2019-09-11 10:32:07\",\"38\",\"19\",\"lajnd\",\"168\",\"0.22619047619\",\"https://t.co/czzVOH0ri5\",\"1/5 (thread) The first paper of my PhD is finally out in @NatureComms and I couldn't be prouder. For full and nuanc... https://t.co/czzVOH0ri5\"\n",
      "\"1171646315119464450\",\"2019-09-11 04:47:04\",\"120\",\"54\",\"mr_corcorana\",\"473\",\"0.253699788584\",\"https://t.co/ogQXXcimis\",\"NEW PAPER by Thomas Parr, @mr_corcorana, Karl Friston, &amp; @hohwy -- \"Perceptual awareness and active inference\" -- o... https://t.co/ogQXXcimis\"\n",
      "\"1169307465520943104\",\"2019-09-04 17:53:19\",\"1442\",\"730\",\"jplotkin\",\"3064\",\"0.470626631854\",\"https://t.co/EycEzzSYDS\",\"Social networks can distort decision making and produce undemocratic outcomes, our latest study... https://t.co/EycEzzSYDS\"\n",
      "\"1169379394273460225\",\"2019-09-04 22:39:08\",\"624\",\"162\",\"BlakeP_Neuro\",\"568\",\"1.0985915493\",\"https://t.co/jzsZO5hpZD\",\"My first #preprint AND first post-doc project is in the world! I've been developing a new effort task for rats! Let... https://t.co/jzsZO5hpZD\"\n",
      "\"1169930491174248449\",\"2019-09-06 11:09:00\",\"131\",\"38\",\"_rdgao\",\"1543\",\"0.0848995463383\",\"https://t.co/nFzWUsOwm7\",\"holy shitballs - I mean brainballs - our oscillating organoid paper finally, finally got published last week.  I wr... https://t.co/nFzWUsOwm7\"\n",
      "\"1159831780926427136\",\"2019-08-09 14:20:19\",\"74\",\"29\",\"scottgigante\",\"469\",\"0.157782515991\",\"https://t.co/agZSvDw33Q\",\"TWEETORIAL: @gmishne, @BaselessPursuit, @KrishnaswamyLab and I developed a new visualisation method called Multisli... https://t.co/agZSvDw33Q\"\n",
      "\"1168878835821142016\",\"2019-09-03 13:30:05\",\"94\",\"24\",\"alexjkell\",\"398\",\"0.236180904523\",\"https://t.co/UpyvGJs6DC\",\"New paper! Real-world background noise may be, by default, \"filtered out\" by non-primary auditory cortex, illustrat... https://t.co/UpyvGJs6DC\"\n",
      "\"1168806393341730816\",\"2019-09-03 08:42:14\",\"17\",\"6\",\"jjodx\",\"1394\",\"0.0121951219512\",\"https://t.co/Nmzolesi2R\",\"New preprint with @KoenVdvoorde where we investigate what goes wrong with the explicit component of motor adaptatio... https://t.co/Nmzolesi2R\"\n",
      "\"1167373809487421440\",\"2019-08-30 09:49:39\",\"88\",\"36\",\"VisualMemoryLab\",\"1512\",\"0.0582010582011\",\"https://t.co/Yk2FssRwRP\",\"New in @eLife: Some images are easier to remember than others. Why? In addition to the 'spike pattern' coding schem... https://t.co/Yk2FssRwRP\"\n",
      "\"1166703238806167553\",\"2019-08-28 13:25:03\",\"84\",\"39\",\"kendmil\",\"1595\",\"0.0526645768025\",\"https://t.co/xhxOyyNzjc\",\"New preprint from Yashar Ahmadian &amp; myself, \"What is the dynamical regime of cerebral cortex\",... https://t.co/xhxOyyNzjc\"\n",
      "\"1167174333162119168\",\"2019-08-29 20:37:00\",\"101\",\"33\",\"JonCheung6\",\"119\",\"0.848739495798\",\"https://t.co/njRP4TtiHQ\",\"Tweetorial time!  1. Question: How do mice locate objects with their whiskers? There are many models, but nobody kn... https://t.co/njRP4TtiHQ\"\n",
      "\"1167413466442936320\",\"2019-08-30 12:27:14\",\"88\",\"36\",\"martripodi\",\"507\",\"0.173570019724\",\"https://t.co/fTgTAdIBYe\",\"New work from our lab @MRC_LMB led by Laura Masullo and Letizia Mariotti reveals the existence of a discrete and mo... https://t.co/fTgTAdIBYe\"\n",
      "\"1164960216246444032\",\"2019-08-23 17:58:54\",\"19\",\"14\",\"ProfBeyeler\",\"1256\",\"0.015127388535\",\"https://t.co/4kmLAH6xvl\",\"In our latest work w/ @BoyntonGeoff @ionefine @arokem we show that repositioning the implant could reduce the size... https://t.co/4kmLAH6xvl\"\n",
      "\"1166709087872196609\",\"2019-08-28 13:48:17\",\"58\",\"19\",\"FangChengYeh\",\"274\",\"0.211678832117\",\"https://t.co/XKFmGnYMPG\",\"A new tractography modality--\"differential tractography\" https://t.co/XKFmGnYMPG\"\n",
      "\"1166633803441496064\",\"2019-08-28 08:49:08\",\"24\",\"6\",\"delhayeben\",\"180\",\"0.133333333333\",\"https://t.co/9NNMPM4cOh\",\"In this paper, we investigated the perception and neural coding of tactile speed. https://t.co/9NNMPM4cOh\"\n",
      "\"1139224350186508288\",\"2019-06-13 17:33:45\",\"245\",\"73\",\"katietschida1\",\"326\",\"0.751533742331\",\"https://t.co/e6Mo7xm4a2\",\"1. Our paper is out! Mice produce ultrasonic vocalizations (USVs) in social contexts, particularly during courtship... https://t.co/e6Mo7xm4a2\"\n",
      "\"1148240688733020160\",\"2019-07-08 14:41:28\",\"23\",\"3\",\"kevinbolding\",\"245\",\"0.0938775510204\",\"https://t.co/myxaMnXa9x\",\"Please attend to our most recent work (with @ShivaNagappan, Bao-Xia Han, Fan Wang, @thefrankslab) available at bior... https://t.co/myxaMnXa9x\"\n",
      "\"1166019292086853637\",\"2019-08-26 16:07:17\",\"38\",\"23\",\"jayvanbavel\",\"20637\",\"0.00184135290982\",\"https://t.co/TdfHqkY9ga\",\"Our latest paper examines the time-course of moral perception using electroencephalography.  This work offers a mor... https://t.co/TdfHqkY9ga\"\n",
      "\"1161337532019302400\",\"2019-08-13 18:03:38\",\"237\",\"92\",\"arifahamid\",\"1080\",\"0.219444444444\",\"https://t.co/USjuV7zkBo\",\"Very excited to share our latest on the organization of activity in dopamine axons in dorsal striatum. We think the... https://t.co/USjuV7zkBo\"\n",
      "\"1165464126803644416\",\"2019-08-25 03:21:15\",\"429\",\"133\",\"JonAMichaels\",\"2141\",\"0.20037365717\",\"https://t.co/cTM3upP3Io\",\"#tweeprint time! How do we generate the right muscle commands to grasp objects? We present a neural network model t... https://t.co/cTM3upP3Io\"\n",
      "\"1121082946964742144\",\"2019-04-24 16:06:17\",\"226\",\"60\",\"JadeMasterMath\",\"4296\",\"0.0526070763501\",\"https://t.co/Y5IyX0zTQR\",\"I just finished a paper called Generalized Petri nets https://t.co/gqzSzuBI7s I use Lawvere theories to generalize... https://t.co/Y5IyX0zTQR\"\n",
      "\"1162024276741877764\",\"2019-08-15 15:32:31\",\"120\",\"55\",\"SenguptaLab\",\"1742\",\"0.0688863375431\",\"https://t.co/4JiUSGyQhD\",\"New preprint from lab! @_MikeOD_ made the exciting discovery that gut bacteria can hijack the olfactory system of t... https://t.co/4JiUSGyQhD\"\n",
      "\"1161908541520785409\",\"2019-08-15 07:52:38\",\"32\",\"13\",\"dendritesgr\",\"441\",\"0.0725623582766\",\"https://t.co/URqDM2U4Az\",\"Hello #dendrites friends! Check out our new paper, published at @NatureComms : \"Challenging the point neuron dogma:... https://t.co/URqDM2U4Az\"\n",
      "\"1161215144757813248\",\"2019-08-13 09:57:19\",\"240\",\"72\",\"OdedRechavi\",\"7112\",\"0.0337457817773\",\"https://t.co/aPkm8jJES9\",\"OH YESSS!!Really proud of this one! Do me a favor &amp; read: IRRATIONALITY IN WORMS! Using C.elegans &amp; its compact n... https://t.co/aPkm8jJES9\"\n",
      "\"1160972534931529728\",\"2019-08-12 17:53:16\",\"55\",\"33\",\"tim_sainburg\",\"429\",\"0.128205128205\",\"https://t.co/qo0ExHDNQd\",\"Our paper \"Parallels in the sequential organization of birdsong and human speech\" is out today in @NatureComms with... https://t.co/qo0ExHDNQd\"\n",
      "\"998661920893829121\",\"2018-05-21 20:28:50\",\"108\",\"43\",\"dlevenstein\",\"1186\",\"0.0910623946037\",\"https://t.co/54YzzG4dBN\",\"We just pushed a big revision of our preprint, so it seemed like a good time for a thread re: what we found and the... https://t.co/54YzzG4dBN\"\n",
      "\"1159141557930516481\",\"2019-08-07 16:37:37\",\"95\",\"33\",\"ctmurphy1\",\"3427\",\"0.0277210388095\",\"https://t.co/WrxzEEOMob\",\"I'm excited to share our new preprint! Here's a thread explaining what we found: 1/8 https://t.co/WrxzEEOMob\"\n",
      "\"1159092424326701057\",\"2019-08-07 13:22:23\",\"133\",\"52\",\"IlanaWitten\",\"5840\",\"0.0227739726027\",\"https://t.co/ig9dnsnxHG\",\"New preprint w @Nparker327, Avinash, Mark Goldman! https://t.co/rKxEv2mzqV  Synergy between expt &amp; circuit modeling... https://t.co/ig9dnsnxHG\"\n",
      "\"1158809249914527745\",\"2019-08-06 18:37:09\",\"72\",\"37\",\"BaselessPursuit\",\"479\",\"0.150313152401\",\"https://t.co/B66hFvUnBu\",\"New preprint (w/ @jpillowtime @realalexsong &amp; #DavidTank): \"Neural Anatomy and Optical Microscopy (NAOMi) Simulatio... https://t.co/B66hFvUnBu\"\n",
      "\"1158401598802059264\",\"2019-08-05 15:37:17\",\"78\",\"34\",\"jdrugowitsch\",\"487\",\"0.160164271047\",\"https://t.co/ZSfmDAjgag\",\"We're happy to announce that our work (with @satohirotajima, @Nisheet9, and @pouget_alex) on the optimal policy for... https://t.co/ZSfmDAjgag\"\n",
      "\"1155991013833396225\",\"2019-07-29 23:58:29\",\"124\",\"41\",\"carolineleiwee\",\"452\",\"0.274336283186\",\"https://t.co/bj4gLxkBIr\",\"Happy to share our new paper led by @EngertLab  &amp; @douglasslab. Zebrafish #oxytocin neurons encode sensorimotor rep... https://t.co/bj4gLxkBIr\"\n",
      "\"1154843346017411072\",\"2019-07-26 19:58:04\",\"194\",\"100\",\"markrobinsonca\",\"2719\",\"0.0713497609415\",\"https://t.co/q0zw5I9Aun Let me (not so) briefly explain a few things ..\",\"So, this preprint came out today .. https://t.co/q0zw5I9Aun Let me (not so) briefly explain a few things ..\"\n",
      "\"1152227200827109376\",\"2019-07-19 14:42:26\",\"21\",\"8\",\"oweissb\",\"340\",\"0.0617647058824\",\"https://t.co/pyA0ASNws0\",\"1/7 #LinearMixedModels and #GaussianProcesses are biased on case-control data (i.e. over-enriched for disease cases... https://t.co/pyA0ASNws0\"\n",
      "\"1152228471999008768\",\"2019-07-19 14:47:29\",\"65\",\"24\",\"tscottphillips\",\"2211\",\"0.0293984622343\",\"https://t.co/wE1UpD4Vwn\",\"New paper: \"The Art Experience\".  In which we argue that artworks and art galleries function by exploiting the cogn... https://t.co/wE1UpD4Vwn\"\n",
      "\"1154469493822767109\",\"2019-07-25 19:12:30\",\"103\",\"26\",\"zamakany\",\"570\",\"0.180701754386\",\"https://t.co/xeKgBMmOlb\",\"Finally my paper with Jacob Davidson ( from the group of @icouzin ) out in @PLOSCompBiol :  https://t.co/1nhxOltgHy... https://t.co/xeKgBMmOlb\"\n",
      "\"1154189036648574977\",\"2019-07-25 00:38:04\",\"87\",\"33\",\"nidhi_s91\",\"481\",\"0.180873180873\",\"https://t.co/kp6Xd0uEUq Thread\",\"1/8 Our paper \"Movement science needs different pose tracking algorithms\" is on arxiv. #tweeprint  https://t.co/kp6Xd0uEUq Thread\"\n",
      "\"1153777072268931072\",\"2019-07-23 21:21:04\",\"186\",\"63\",\"brialong\",\"580\",\"0.320689655172\",\"https://t.co/YHxJG1FuPb\",\"How might changes in children's drawings reflect changes in their visual concepts? For our #CogSci2019 paper (with... https://t.co/YHxJG1FuPb\"\n",
      "\"1151192319166734336\",\"2019-07-16 18:10:11\",\"0\",\"1\",\"IceVisLab\",\"622\",\"0.0\",\"https://t.co/hpmNQ4g3z7\",\"Preprint: Faces and words are both associated and dissociated: Evidence from visual problems in dyslexia:... https://t.co/hpmNQ4g3z7\"\n",
      "\"1153427790672171009\",\"2019-07-22 22:13:09\",\"142\",\"56\",\"SussilloDavid\",\"7801\",\"0.0182027945135\",\"https://t.co/siNU4JCvRL\",\"#tweeprint Universality and individuality in neural dynamics across large populations of recurrent networks... https://t.co/siNU4JCvRL\"\n",
      "\"1153313790815080448\",\"2019-07-22 14:40:09\",\"24\",\"1\",\"GunnarBlohm\",\"1793\",\"0.0133853876185\",\"https://t.co/ro2ivTzfMF\",\"New paper from the lab with @macmurdo07 in press at @ARVOJOV: Saccade-induced changes in ocular torsion reveal pred... https://t.co/ro2ivTzfMF\"\n",
      "\"1151946236217266176\",\"2019-07-18 20:05:59\",\"284\",\"138\",\"SuryaGanguli\",\"7018\",\"0.040467369621\",\"https://t.co/ipIg5fGLpF\",\"1/ New in @sciencemagazine w/ @KarlDeisseroth lab: https://t.co/G473wQEcFZ: new opsin + multi-photon holography to... https://t.co/ipIg5fGLpF\"\n",
      "\"1151250970447405057\",\"2019-07-16 22:03:15\",\"49\",\"32\",\"ipoga\",\"430\",\"0.113953488372\",\"https://t.co/K7AbWg36WZ\",\"1/ Are women scientists less cited than men? Our new paper in @eLife (with @mathiaswullum @schneider_jw... https://t.co/K7AbWg36WZ\"\n",
      "\"1150854405450805248\",\"2019-07-15 19:47:26\",\"120\",\"27\",\"Kurt_Fraser\",\"3035\",\"0.0395387149918\",\"https://t.co/BZqxugoVO6\",\"Hot off the press! Occasion setters attain motivational value: implications for contextual influences on reward-see... https://t.co/BZqxugoVO6\"\n",
      "\"1035201641564262401\",\"2018-08-30 16:24:39\",\"254\",\"90\",\"domcram\",\"576\",\"0.440972222222\",\"https://t.co/ToWJETF1lJ\",\"(THREAD) I will now explain our meerkat study using graphs and generic plastic construction blocks, because I'm a g... https://t.co/ToWJETF1lJ\"\n",
      "\"979453010370842625\",\"2018-03-29 20:19:29\",\"1203\",\"389\",\"MHendr1cks\",\"6847\",\"0.175697385716\",\"https://t.co/QI20TNrXlv\",\"1. \"C. elegans is simple,\" they said. \"We've got the connectome. You can study the whole brain.\" I fell for it, and... https://t.co/QI20TNrXlv\"\n",
      "\"960968786714050561\",\"2018-02-06 20:09:47\",\"77\",\"22\",\"NeedhiBhalla\",\"8775\",\"0.00877492877493\",\"https://t.co/vpf07Yi1ch\",\"Between getting a grant out the door and preparing an exam that students in my genetics class will take this week,... https://t.co/vpf07Yi1ch\"\n",
      "\"1027990090721554433\",\"2018-08-10 18:48:31\",\"30\",\"15\",\"NeedhiBhalla\",\"8775\",\"0.0034188034188\",\"https://t.co/DhVGKyHj1t\",\"As promised, I'm excited to tell you about this new pre-print from my lab. Christian Nelson, a graduate student in... https://t.co/DhVGKyHj1t\"\n",
      "\"1067935817950220291\",\"2018-11-29 00:18:34\",\"131\",\"52\",\"SuryaGanguli\",\"7018\",\"0.0186662866914\",\"https://t.co/yEO6s4wnMQ\",\"1/ Our new #neuroscience paper, \"Emergent elasticity in the neural code for space\" just appeared in @PNASNews:... https://t.co/yEO6s4wnMQ\"\n",
      "\"1057186283645296640\",\"2018-10-30 08:23:46\",\"140\",\"66\",\"sainsbury_tom\",\"277\",\"0.505415162455\",\"https://t.co/jfr7yyrASH\",\"Neural ensembles are groups of co-active neurons that may be triggered spontaneously, by sensory stimuli or behavio... https://t.co/jfr7yyrASH\"\n",
      "\"1150038006574854144\",\"2019-07-13 13:43:22\",\"23\",\"15\",\"ChrisCurrin\",\"373\",\"0.0616621983914\",\"https://t.co/Bw2fUMNp1m\",\"So a few of us (@unhlangothi, @adantro, PeterLatham, @TPVogels, @JosephRaimondo) wrote a perspective piece for... https://t.co/Bw2fUMNp1m\"\n",
      "\"1149699641832824832\",\"2019-07-12 15:18:49\",\"7\",\"4\",\"IceVisLab\",\"622\",\"0.0112540192926\",\"https://t.co/Z5nQzc5Lth\",\"Just out: A prehistory of Feature Integration Theory! How feature integration theory integrated cognitive psycholog... https://t.co/Z5nQzc5Lth\"\n",
      "\"1148759011027587072\",\"2019-07-10 01:01:05\",\"150\",\"57\",\"morde\",\"1295\",\"0.11583011583\",\"https://t.co/iaCwThKrPC\",\"Beyond stoked that our new paper is out in open access in @Ecology_Letters with @MartaShocket @SadieRyan... https://t.co/iaCwThKrPC\"\n",
      "\"1148875221614694400\",\"2019-07-10 08:42:52\",\"42\",\"16\",\"vincefort\",\"161\",\"0.260869565217\",\"https://t.co/A2jMoEMpgI\",\"Our new paper on using VAEs to deal with missing data in time series is online! This is joint work with @gxr and... https://t.co/A2jMoEMpgI\"\n",
      "\"1149022842643779584\",\"2019-07-10 18:29:28\",\"108\",\"41\",\"mcxfrank\",\"7438\",\"0.0145200322667\",\"https://t.co/qQ67HPBwwD\",\"Consistency and variability in children's word learning across languages. New paper by @mbraginsky, @danyurovsky, V... https://t.co/qQ67HPBwwD\"\n",
      "\"1093922660935966725\",\"2019-02-08 17:21:01\",\"7\",\"1\",\"ampanmdagaba\",\"483\",\"0.0144927536232\",\"https://t.co/8acjPIH6et\",\"A new pre-print from my lab! We asked whether intrinsic plasticity in the midbrain merely adjusts neuronal spiking... https://t.co/8acjPIH6et\"\n",
      "\"1149081260813377538\",\"2019-07-10 22:21:36\",\"453\",\"109\",\"DavidDuvenaud\",\"16864\",\"0.0268619544592\",\"https://t.co/emtV6BgjYn\",\"We scaled up neural ODE time series models to real data, such as medical records with irregularly-timed measurement... https://t.co/emtV6BgjYn\"\n",
      "\"1148584374184501250\",\"2019-07-09 13:27:09\",\"114\",\"39\",\"BalintZKacsoh\",\"1709\",\"0.0667056758338\",\"https://t.co/A17H8UzavR\",\"Our  preprint paper is live published!  \"Transgeneratonal inheritance of ethanol preference is caused b... https://t.co/A17H8UzavR\"\n",
      "\"1146411885526495232\",\"2019-07-03 13:34:27\",\"15\",\"8\",\"celiagrasmi\",\"564\",\"0.0265957446809\",\"httpThread on a new paper about babies, noise, cognition, and emotion regulation! (Not a very long thread.)\",\"Thread on a new paper about babies, noise, cognition, and emotion regulation! (Not a very long thread.)\"\n",
      "\"1146459699841134595\",\"2019-07-03 16:44:27\",\"45\",\"25\",\"maqartan\",\"3119\",\"0.0144277011863\",\"https://t.co/1z5TDdNkDI\",\"Happy to share a new working paper with Philip Dawid and Monica Musio on when you can use information on causal pro... https://t.co/1z5TDdNkDI\"\n",
      "\"1119097272824782849\",\"2019-04-19 04:35:56\",\"275\",\"92\",\"RKLeane\",\"1250\",\"0.22\",\"https://t.co/GhwIpVeDF6\",\"New paper out today!  Dark Matter Strikes Back at the Galactic Center https://t.co/6DvXFfZGGT  We show that dark ma... https://t.co/GhwIpVeDF6\"\n",
      "\"1146832885707526146\",\"2019-07-04 17:27:21\",\"196\",\"77\",\"bradleyvoytek\",\"15414\",\"0.0127157129882\",\"https://t.co/eWNWQRsbEJ\",\"1/ New @JNeurophysiol paper! Thread.  \"Cycle-by-cycle analysis of neural oscillations\" with @scottrcole. (This is u... https://t.co/eWNWQRsbEJ\"\n",
      "\"1146796344067182593\",\"2019-07-04 15:02:09\",\"286\",\"158\",\"YunzheNeuro\",\"332\",\"0.861445783133\",\"https://t.co/2W3ScTCONe\",\"Super thrilled to share our years of work on human replay with the world, now out in Cell @CellCellPress,... https://t.co/2W3ScTCONe\"\n",
      "\"1146413513864167424\",\"2019-07-03 13:40:55\",\"70\",\"30\",\"JoshHMcDermott\",\"888\",\"0.0788288288288\",\"https://t.co/8GiWO3bKhv\",\"Pleased to announce a new preprint by Richard McWalter: https://t.co/I0OMP0ry4k Describes an illusion in which text... https://t.co/8GiWO3bKhv\"\n",
      "\"1146428513920126976\",\"2019-07-03 14:40:31\",\"353\",\"152\",\"neuroecology\",\"12253\",\"0.0288092711989\",\"https://t.co/yHGD5SkVZS\",\"Animals will respond differently to the same inputs when they are hungry/sated, attentive/bored, etc. But how do we... https://t.co/yHGD5SkVZS\"\n",
      "\"1146047890994925568\",\"2019-07-02 13:28:04\",\"252\",\"65\",\"natashajaques\",\"8980\",\"0.0280623608018\",\"https://t.co/8DvS1tKluj\",\"Excited to release our latest paper, which uses KL-control for effective off-policy RL, even when you can't explore... https://t.co/8DvS1tKluj\"\n",
      "\"1146085081490108418\",\"2019-07-02 15:55:51\",\"212\",\"67\",\"AnneEUrai\",\"3488\",\"0.0607798165138\",\"https://t.co/vXM8HQAPLI\",\"Choice history biases subsequent evidence accumulation My latest with @jwdegee, @k_tsetsos and @donner_lab now out... https://t.co/vXM8HQAPLI\"\n",
      "\"1146085041732112385\",\"2019-07-02 15:55:41\",\"129\",\"61\",\"valdanchev\",\"123\",\"1.0487804878\",\"https://t.co/Nd07gdfmCK\",\"Our paper w/ @arzhetsky and James Evans published today @eLife on the importance of decentralized connectivity in s... https://t.co/Nd07gdfmCK\"\n",
      "\"1146214999951585281\",\"2019-07-03 00:32:06\",\"148\",\"42\",\"TheCalipariLab\",\"5015\",\"0.0295114656032\",\"https://t.co/kZk94sfzpj\",\"THREAD: Here is the lab's first preprint by @MunirGunesKutlu and @jennifer_zachry! We developed a new behavioral ta... https://t.co/kZk94sfzpj\"\n",
      "\"1146117624935305216\",\"2019-07-02 18:05:10\",\"53\",\"18\",\"ItsNeuronal\",\"2584\",\"0.0205108359133\",\"https://t.co/P9O5QpKOVn\",\"Come read our new preprint where we describe  faster methods  for extracting sequential firing patterns in large-... https://t.co/P9O5QpKOVn\"\n",
      "\"1146330959240990720\",\"2019-07-03 08:12:53\",\"58\",\"22\",\"vincentvalton\",\"337\",\"0.172106824926\",\"https://t.co/0yYVsAYApa\",\"Our new paper is out in @Brain  (ft. @KarvelisPovilas @krichar25 @aaronseitz @lawrie_s  peggy series)  We used... https://t.co/0yYVsAYApa\"\n",
      "\"1146134810315784193\",\"2019-07-02 19:13:27\",\"11\",\"1\",\"ProfBeyeler\",\"1256\",\"0.00875796178344\",\"https://t.co/I3tRPxvT7N\",\"New review out in @PLOSCompBiol, in collab with @UCI_CARL: https://t.co/W8sl6QU545  A variety of neuronal responses... https://t.co/I3tRPxvT7N\"\n",
      "\"1144093170411511808\",\"2019-06-27 04:00:42\",\"384\",\"114\",\"ekindogus\",\"1756\",\"0.21867881549\",\"https://t.co/Qtt2oTARRQ\",\"Data augmentation is even more crucial for detection. We present AutoAugment for object detection, achieving SOTA o... https://t.co/Qtt2oTARRQ\"\n",
      "\"1145729781268221952\",\"2019-07-01 16:24:01\",\"65\",\"22\",\"SenguptaLab\",\"1742\",\"0.0373134328358\",\"https://t.co/Du7qT0JXtN\",\" 1/5 Our newest paper is now out @elife. Sensory cilia often exhibit unique (and super cool!) morphologies that a... https://t.co/Du7qT0JXtN\"\n",
      "\"1144613849221480449\",\"2019-06-28 14:29:42\",\"14\",\"9\",\"bjbalas\",\"348\",\"0.0402298850575\",\"https://t.co/EWchVcZdq2\",\"New manuscript! This one is part of our efforts to try and understand how the information children use for... https://t.co/EWchVcZdq2\"\n",
      "\"1144298231096119298\",\"2019-06-27 17:35:32\",\"500\",\"196\",\"seth_donoughe\",\"828\",\"0.6038647343\",\"https://t.co/NbKpTVzS9R\",\"Did you know that insects have evolved flight feathers?  And it's happened at least THREE separate times?  This is... https://t.co/NbKpTVzS9R\"\n",
      "\"1144626466946080773\",\"2019-06-28 15:19:50\",\"27\",\"8\",\"flyawlab\",\"381\",\"0.0708661417323\",\"https://t.co/OYyFB9M8Fc\",\"Here is a summary of our new @PLOSBiology paper (https://t.co/tfJsIJS6e6)! The project started because of a well-kn... https://t.co/OYyFB9M8Fc\"\n",
      "\"1144453714637230083\",\"2019-06-28 03:53:23\",\"1053\",\"518\",\"PrakashLab\",\"9752\",\"0.107977850697\",\"https://t.co/MQBskNY6fQ\",\"(1/n) Latest pre-print from lab! Octopi; open configurable high-throughput imaging platform. Led by an incredible g... https://t.co/MQBskNY6fQ\"\n",
      "\"1144277825215750145\",\"2019-06-27 16:14:27\",\"37\",\"9\",\"action_brain\",\"3580\",\"0.0103351955307\",\"https://t.co/0ON0G2RrkD\",\"Our paper in @CurrentBiology on the emergence of size constancy in early visual cortex is now available on line.  T... https://t.co/0ON0G2RrkD\"\n",
      "\"1144313901254758400\",\"2019-06-27 18:37:49\",\"218\",\"57\",\"niru_m\",\"1649\",\"0.132201334142\",\"https://t.co/ljcyFDrs7x\",\"New work out on arXiv! Reverse engineering recurrent networks for sentiment classification reveals line attractor d... https://t.co/ljcyFDrs7x\"\n",
      "\"1143958261747474432\",\"2019-06-26 19:04:37\",\"29\",\"6\",\"simha_surabhi\",\"84\",\"0.345238095238\",\"https://t.co/6i3BkgFRr5\",\"Thanks @TNSRE1 for publishing my first paper https://t.co/5RPdyO42W1 ... and tweeting about it! Also thanks to... https://t.co/6i3BkgFRr5\"\n",
      "\"1143802522299244545\",\"2019-06-26 08:45:46\",\"1061\",\"326\",\"shakir_za\",\"34235\",\"0.0309916751862\",\"https://t.co/4VipPhQNW8\",\"Exited to share our new paper: 'Monte Carlo Gradient Estimation in Machine Learning', with @elaClaudia @mfigurnov... https://t.co/4VipPhQNW8\"\n",
      "\"1143253810833502208\",\"2019-06-24 20:25:23\",\"19\",\"6\",\"Cathy2709\",\"1012\",\"0.0187747035573\",\"https://t.co/w0aPhdSrj0\",\"THREAD about our new paper 'Neural dynamics underlying coherent motion perception in children and adults' in Develo... https://t.co/w0aPhdSrj0\"\n",
      "\"1143218611231682562\",\"2019-06-24 18:05:31\",\"162\",\"61\",\"BugajLab\",\"430\",\"0.376744186047\",\"https://t.co/R0PUeq1IYf\",\"Do you want high-throughput, multiplexed optogenetics?  Do you have a toaster oven? Check out our new protocol for... https://t.co/R0PUeq1IYf\"\n",
      "\"1142788010641149955\",\"2019-06-23 13:34:28\",\"97\",\"38\",\"urs_braun\",\"138\",\"0.702898550725\",\"https://t.co/KcVTS1Jegk\",\"(1) Another wonderful collaboration w/ @DaniSBassett, @richardfbetzel @AHarneit &amp; co. We use network control theory... https://t.co/KcVTS1Jegk\"\n",
      "\"1142510839087423489\",\"2019-06-22 19:13:05\",\"2063\",\"727\",\"computingnature\",\"3467\",\"0.595038938564\",\"https://t.co/KE43xHzU33\",\"Story time! Single neurons in the brain can't be depended on for reliable information. Here are some neurons from o... https://t.co/KE43xHzU33\"\n",
      "\"1142084420935049216\",\"2019-06-21 14:58:39\",\"83\",\"38\",\"beckyneuro\",\"4610\",\"0.0180043383948\",\"https://t.co/KKYCPtRB6g\",\"Our new #JNeurosci @SfNJournals paper, with @takamitsu_w, Ylva Valden and @profgeraintrees is online. This paper ha... https://t.co/KKYCPtRB6g\"\n",
      "\"1141704897429221377\",\"2019-06-20 13:50:34\",\"288\",\"67\",\"ankesh_anand\",\"1104\",\"0.260869565217\",\"https://t.co/aLlvccuFhR\",\"Excited to share our new work: Unsupervised State Representation Learning in Atari https://t.co/SzXEJCWjxC  TL;DR:... https://t.co/aLlvccuFhR\"\n",
      "\"1140994212604928001\",\"2019-06-18 14:46:33\",\"3\",\"2\",\"venpopov\",\"879\",\"0.00341296928328\",\"https://t.co/8T4AS8nh3t\",\"Are episodic associations represented symmetrically or not? Depends on prior knowledge! The preprint described in t... https://t.co/8T4AS8nh3t\"\n",
      "\"1141619346990497792\",\"2019-06-20 08:10:37\",\"28\",\"11\",\"nitiniitk\",\"459\",\"0.0610021786492\",\"https://t.co/lZsw6ICLvK\",\"Odors are sensed by a set of #olfactory #receptors (ORs). Each OR responds to a few odors. Currently we use tedious... https://t.co/lZsw6ICLvK\"\n",
      "\"1141748471415922688\",\"2019-06-20 16:43:42\",\"14\",\"6\",\"LAMaglanoc\",\"349\",\"0.0401146131805\",\"https://t.co/TrLipyn6GH\",\"Our latest preprint using linked independent component analysis to fuse cortical macrostructure, white matter diffu... https://t.co/TrLipyn6GH\"\n",
      "\"1141821852047704064\",\"2019-06-20 21:35:18\",\"76\",\"44\",\"skryazhi\",\"1123\",\"0.0676758682102\",\"https://t.co/VOf1sfWZnn\",\"Our new preprint \"Higher fitness yeast genotypes are less robust to deleterious mutations\" is out. @_miloj, an amaz... https://t.co/VOf1sfWZnn\"\n",
      "\"1142166190829264898\",\"2019-06-21 20:23:34\",\"47\",\"12\",\"krknrm\",\"2397\",\"0.0196078431373\",\"https://t.co/wN8s66LkEg\",\"[?] Finally! Our preprint is out - \"Tankyrase inhibition sensitizes cells to CDK4 blockade\". We describe a synergy... https://t.co/wN8s66LkEg\"\n",
      "\"1141686760554008577\",\"2019-06-20 12:38:29\",\"105\",\"28\",\"RyanRoemmich\",\"549\",\"0.191256830601\",\"https://t.co/165it4ASeH\",\"Will persons post-stroke change how they walk if a new walking pattern becomes less effortful? We think so. In a ne... https://t.co/165it4ASeH\"\n",
      "\"1141731003620306944\",\"2019-06-20 15:34:18\",\"287\",\"89\",\"le_roux_nicolas\",\"4080\",\"0.0703431372549\",\"https://t.co/GXxEWOH2eQ\",\"Our paper on the link between information matrices and generalization is out: https://t.co/YSuHF41vCR This is the r... https://t.co/GXxEWOH2eQ\"\n",
      "\"1141739990822486017\",\"2019-06-20 16:10:00\",\"22\",\"3\",\"PerrySpratt\",\"123\",\"0.178861788618\",\"https://t.co/FLj6IdTsGO\",\"The first paper from my PhD is now online @NeuroCellPress! Big thanks to @roybensh and all of @NeuroBender's lab fo... https://t.co/FLj6IdTsGO\"\n",
      "\"1138169652981293056\",\"2019-06-10 19:42:46\",\"823\",\"246\",\"samgreydanus\",\"823\",\"1.0\",\"https://t.co/0p5cBOwXz7\",\"My most recent @GoogleAI residency project is out:  \"Hamiltonian Neural Networks\" Blog: https://t.co/vHfQGBqdH4 Pap... https://t.co/0p5cBOwXz7\"\n",
      "\"1141001870187483138\",\"2019-06-18 15:16:59\",\"76\",\"21\",\"denizzokt\",\"148\",\"0.513513513514\",\"https://t.co/NgR7ExulSO\",\"Check out what I have been working on during my residency! https://t.co/PYATasHLtF A new model compression approach... https://t.co/NgR7ExulSO\"\n",
      "\"1141363697635381249\",\"2019-06-19 15:14:45\",\"334\",\"98\",\"DrZoePhD\",\"1267\",\"0.2636148382\",\"https://t.co/y4WolSOpYi\",\"It's with a lot of excitement and some trepidation that I share our first preprint in which we used Ca2+ imaging in... https://t.co/y4WolSOpYi\"\n",
      "\"1042572966297575424\",\"2018-09-20 00:35:39\",\"193\",\"71\",\"chethan\",\"1364\",\"0.141495601173\",\"https://t.co/Hgv4aMjQmi\",\"Our paper just came out! LFADS, a deep learning approach to understand neural population activity.Many potentia... https://t.co/Hgv4aMjQmi\"\n",
      "\"1080147073947877376\",\"2019-01-01 17:01:45\",\"102\",\"44\",\"AToliasLab\",\"1579\",\"0.0645978467384\",\"https://t.co/c7bBO2Ay3J\",\"Finding optimal stimuli for neurons has long been central for understanding information processing in the brain. Th... https://t.co/c7bBO2Ay3J\"\n",
      "\"1070361281478254592\",\"2018-12-05 16:56:30\",\"124\",\"38\",\"memming\",\"2527\",\"0.0490700435299\",\"https://t.co/XLNdco6aJ9\",\"New preprint by brilliant @JosueNassar in my group. A new state-space model with multi-scale hierarchical dynamics... https://t.co/XLNdco6aJ9\"\n",
      "\"1081634832344670208\",\"2019-01-05 19:33:34\",\"32\",\"4\",\"joshuaiglaser\",\"291\",\"0.109965635739\",\"https://t.co/EOFWsvMMS0 1/3\",\"We're excited to share our new paper w/ @snaufel, @presncm, @kordinglab https://t.co/EOFWsvMMS0 1/3\"\n",
      "\"1124160151089549312\",\"2019-05-03 03:54:00\",\"200\",\"60\",\"scott_linderman\",\"2343\",\"0.0853606487409\",\"https://t.co/Z9d9voLvmH\",\"Hierarchical Recurrent State Space Models Reveal Discrete and Continuous Dynamics of Neural Activity in C. elegans... https://t.co/Z9d9voLvmH\"\n",
      "\"1130814170948100103\",\"2019-05-21 12:34:42\",\"61\",\"19\",\"aha_momentum\",\"530\",\"0.115094339623\",\"https://t.co/EXS7UempwF The logic of the paper:\",\"1/ New paper on \"Quantifying how staining methods bias measurements of neuron morphologies\": https://t.co/EXS7UempwF The logic of the paper:\"\n",
      "\"1132969215646871552\",\"2019-05-27 11:18:05\",\"235\",\"96\",\"VenkRamaswamy\",\"1491\",\"0.157612340711\",\"https://t.co/l2hUaYSpax\",\"Excited to share a new (&amp; possibly contrarian) preprint !  \" An Algorithmic Barrier to Neural Circuit Understanding... https://t.co/l2hUaYSpax\"\n",
      "\"1021730368922234880\",\"2018-07-24 12:14:37\",\"112\",\"50\",\"TheFrontalLobe_\",\"1781\",\"0.0628860190904\",\"https://t.co/TYtNJAjZXf\",\"Thread 1/ A few words on our #preprint \"Recording from the same neuron with high-density CMOS probes and patch-clam... https://t.co/TYtNJAjZXf\"\n",
      "\"1093814606441648128\",\"2019-02-08 10:11:38\",\"440\",\"136\",\"dsquintana\",\"12264\",\"0.0358773646445\",\"https://t.co/ceK0PDml42\",\"Very happy to announce that our new paper on oxytocin pathway gene networks in the human brain has just been publis... https://t.co/ceK0PDml42\"\n",
      "\"1137034488800636928\",\"2019-06-07 16:32:01\",\"322\",\"99\",\"ItsNeuronal\",\"2584\",\"0.124613003096\",\"https://t.co/WFgWblceis\",\"Single-trial variability in spike timing, even in small amounts, can mask striking firing patterns.  The raster plo... https://t.co/WFgWblceis\"\n",
      "\"988936122029019136\",\"2018-04-25 00:21:59\",\"594\",\"209\",\"colinraffel\",\"11286\",\"0.0526315789474\",\"https://t.co/cwhz9uj82m\",\"New work on arxiv with @avitaloliver @gstsdn @ekindogus @goodfellow_ian on realistically evaluating deep semi-super... https://t.co/cwhz9uj82m\"\n",
      "\"1136798121558548480\",\"2019-06-07 00:52:47\",\"128\",\"23\",\"iraphas13\",\"1116\",\"0.114695340502\",\"https://t.co/970MsZUeuk\",\"2nd @GoogleAI residency paper now on arxiv!  \"Improving Robustness Without Sacrificing Accuracy with Patch Gaussian... https://t.co/970MsZUeuk\"\n",
      "\"1136668697584578560\",\"2019-06-06 16:18:30\",\"5\",\"2\",\"JohnDebes\",\"1241\",\"0.00402900886382\",\"https://t.co/GzcdKoWY40\",\"So I'm a bit late to posting an arxiv version of my Astro 2020 science whitepaper, but let me tell you what I and m... https://t.co/GzcdKoWY40\"\n",
      "\"1133325806988595200\",\"2019-05-28 10:55:03\",\"88\",\"43\",\"xgfsru\",\"239\",\"0.36820083682\",\"https://t.co/d67fjzy80O\",\"Happy to announce \"Intrinsic Multi-scale Evaluation of Generative Models\" with @maremun and other cool folks! arXiv... https://t.co/d67fjzy80O\"\n",
      "\"1139232020519768064\",\"2019-06-13 18:04:14\",\"20\",\"4\",\"charles_irl\",\"217\",\"0.0921658986175\",\"https://t.co/AlmQVTDG71\",\"1/9 New short paper up on arXiV: \"Critical Point Finding with Newton-MR by Analogy to Computing Square Roots\"... https://t.co/AlmQVTDG71\"\n",
      "\"1140711431370764288\",\"2019-06-17 20:02:53\",\"77\",\"29\",\"dpatters10\",\"379\",\"0.203166226913\",\"https://t.co/bVyfyI42T9\",\"Yoooo...MULTI-seq paper is live on @naturemethods!! Our #scRNAseq sample multiplexing method uses lipid-modified ol... https://t.co/bVyfyI42T9\"\n",
      "\"1140947647328673793\",\"2019-06-18 11:41:31\",\"208\",\"83\",\"olijrobinson\",\"1805\",\"0.115235457064\",\"https://t.co/8CGnTLCaxz\",\"Our new paper out now in @NatureHumBehav 'Altered learning under uncertainty in unmedicated mood and anxiety disord... https://t.co/8CGnTLCaxz\"\n",
      "\"940230369458110465\",\"2017-12-11 14:42:43\",\"434\",\"228\",\"mbeisen\",\"37280\",\"0.0116416309013\",\"https://t.co/FPKfxQYoTg\",\"New paper from my amazing student @homiec17 describing her discovery &amp; characterization of a mind-controlling zombi... https://t.co/FPKfxQYoTg\"\n",
      "\"1019655132940627969\",\"2018-07-18 18:48:22\",\"1338\",\"502\",\"mbeisen\",\"37280\",\"0.0358905579399\",\"https://t.co/8nzPQA3fbn\",\"Just posted @biorxivpreprint describing one of whackiest discoveries of my time in science. We found a virus that h... https://t.co/8nzPQA3fbn\"\n",
      "\"1140649942505013249\",\"2019-06-17 15:58:33\",\"458\",\"123\",\"nikiparmar09\",\"1950\",\"0.234871794872\",\"https://t.co/crALU5gNod\",\"New Paper: Stand-Alone Self-Attention in Vision Models   https://t.co/qHFc5ULIrZ  Can attention work as a stand-alo... https://t.co/crALU5gNod\"\n",
      "\"1140638156015882241\",\"2019-06-17 15:11:43\",\"1062\",\"513\",\"AnatolKreitzer\",\"2252\",\"0.471580817052\",\"https://t.co/H1m41nMiRy\",\"For those using optogenetics: a cautionary tale. Light alone can modulate neural activity and behavior through heat... https://t.co/H1m41nMiRy\"\n",
      "\"1138600152048910336\",\"2019-06-12 00:13:25\",\"2354\",\"744\",\"hardmaru\",\"72300\",\"0.0325587828492\",\"https://t.co/KAbZOw2Pz8\",\"Weight Agnostic Neural Networks   Inspired by precocial species in biology, we set out to search for neural net ar... https://t.co/KAbZOw2Pz8\"\n",
      "\"1138427191329529857\",\"2019-06-11 12:46:08\",\"98\",\"32\",\"seth_donoughe\",\"828\",\"0.118357487923\",\"https://t.co/Bdcq0rJdt7\",\"Two different mutations can cause a forearm-like bones to form in a fish lineage that hasn't had them for 100s of m... https://t.co/Bdcq0rJdt7\"\n",
      "\"1095380645579243521\",\"2019-02-12 17:54:31\",\"117\",\"23\",\"dgonzales1990\",\"6299\",\"0.0185743768852\",\"https://t.co/7PYgeSKPgV\",\"My first preprint is out! And y'all I am EXCITED!  This has been a crazy fun project that went from \"yo uhh wtf are... https://t.co/7PYgeSKPgV\"\n",
      "\"1106960904317554689\",\"2019-03-16 16:50:20\",\"86\",\"34\",\"ar0mcintosh\",\"2395\",\"0.0359081419624\",\"https://t.co/Ij0ZM3j2ay\",\"Our new preprint is out: \"THE HIDDEN REPERTOIRE OF BRAIN DYNAMICS AND DYSFUNCTION\"  /thread https://t.co/Ij0ZM3j2ay\"\n",
      "\"1001950022747947012\",\"2018-05-30 22:14:35\",\"101\",\"53\",\"mohebial\",\"503\",\"0.200795228628\",\"https://t.co/4Lv5klFREX\",\"In out first preprint from Berke lab, we show that dopamine release is not a passive readout of dopamine cell firin... https://t.co/4Lv5klFREX\"\n",
      "\"1133342680963067905\",\"2019-05-28 12:02:06\",\"72\",\"40\",\"introspection\",\"5083\",\"0.0141648632697\",\"https://t.co/BdHru0fTol\",\" New preprint: The Human Dynamic Clamp reveals the fronto-parietal network linking real-time social coordination... https://t.co/BdHru0fTol\"\n",
      "\"979284878423416833\",\"2018-03-29 09:11:23\",\"114\",\"67\",\"LukasSnoek\",\"290\",\"0.393103448276\",\"https://t.co/9MBoNFqlQc\",\"Our preprint about dealing with confounds in decoding analyses of neuroimaging data is online! Article turned out t... https://t.co/9MBoNFqlQc\"\n",
      "\"1132588626666283008\",\"2019-05-26 10:05:45\",\"480\",\"159\",\"EbisuyaMiki\",\"1288\",\"0.372670807453\",\"https://t.co/55mYatZ3jx\",\"Our latest bioRxiv preprint:  Why is human time slower than mouse time?  We studied using \"in vitro segmentation cl... https://t.co/55mYatZ3jx\"\n",
      "\"1138927757927342080\",\"2019-06-12 21:55:12\",\"17\",\"7\",\"TMR_et_al\",\"80\",\"0.2125\",\"https://t.co/9lVvofCjHA\",\"This thread discusses the results of our recent preprint. If you're interested in memory, sleep &amp; context, this thr... https://t.co/9lVvofCjHA\"\n",
      "\"1139967529135116288\",\"2019-06-15 18:46:53\",\"112\",\"53\",\"EngertLab\",\"1638\",\"0.0683760683761\",\"https://t.co/EshMLixU7U\",\"New preprint from our lab!  Probabilistic Models of Larval Zebrafish Behavior: Structure on Many Scales... https://t.co/EshMLixU7U\"\n",
      "\"1136646358344114176\",\"2019-06-06 14:49:44\",\"1386\",\"474\",\"OdedRechavi\",\"7112\",\"0.194881889764\",\"https://t.co/zK37f0rgdL\",\" FINALLY! Our paper is out!  @CellCellPress We discovered that the nervous system of C.elegans transmits inform... https://t.co/zK37f0rgdL\"\n",
      "\"1139148255969906689\",\"2019-06-13 12:31:23\",\"697\",\"227\",\"hulme_oliver\",\"787\",\"0.885641677255\",\"https://t.co/m9fnb9MekY\",\"What is ergodicity? ...and does it matter for human behavior?   In this paper we explain what it is,   why it const... https://t.co/m9fnb9MekY\"\n",
      "\"1117140721558065155\",\"2019-04-13 19:01:18\",\"41\",\"15\",\"JeffMYau\",\"502\",\"0.0816733067729\",\"https://t.co/k28fLTZ8ia. Here's a summary.\",\"(1/13) Our #pr33p (https://t.co/5NQ7zmqrMN) has been accepted in @JNeurophyiol: https://t.co/k28fLTZ8ia. Here's a summary.\"\n",
      "\"1054457150028869632\",\"2018-10-22 19:39:10\",\"140\",\"48\",\"JAlGallego\",\"1826\",\"0.0766703176342\",\"https://t.co/OqZxjJjZS3\",\" New #pr33p: Animals readily execute learned behaviors in a consistent manner over long time periods, yet similarl... https://t.co/OqZxjJjZS3\"\n",
      "\"1135662384222048258\",\"2019-06-03 21:39:46\",\"186\",\"71\",\"SuryaGanguli\",\"7018\",\"0.026503277287\",\"https://t.co/UfLmHLQPMQ\",\"1/ New #neuroscience paper @NeuroCellPress: Accurately estimating neural population dynamics without spike sorting... https://t.co/UfLmHLQPMQ\"\n",
      "\"1052524999037333504\",\"2018-10-17 11:41:29\",\"132\",\"54\",\"JAlGallego\",\"1826\",\"0.0722891566265\",\"https://t.co/s2MPaPajGj\",\"New paper! How does motor cortex generate our rich behavioral repertoire? Previous work showed complex changes in s... https://t.co/s2MPaPajGj\"\n",
      "\"1087439025588207616\",\"2019-01-21 19:57:21\",\"298\",\"136\",\"jmacshine\",\"1247\",\"0.238973536488\",\"https://t.co/CD0w1Osu3V\",\"Very excited to announce the publication of our new paper in @NatureNeuro: https://t.co/27bPErNZm8 with... https://t.co/CD0w1Osu3V\"\n",
      "\"1094994925052080130\",\"2019-02-11 16:21:48\",\"163\",\"73\",\"Jeff_Weiler\",\"305\",\"0.534426229508\",\"https://t.co/8XL1OjFgb2\",\"My paper with @paulgribble &amp; @andpru is now officially published in @NatureNeuro! (https://t.co/e8zODIrdnt) In it w... https://t.co/8XL1OjFgb2\"\n",
      "\"1034880537175814144\",\"2018-08-29 19:08:41\",\"172\",\"68\",\"maxdonelan\",\"1050\",\"0.16380952381\",\"https://t.co/9XTGSptN9R\",\"A paper that Dr. Heather More and I have been working on for a long time has just come out today in @RoyalSociety's... https://t.co/9XTGSptN9R\"\n",
      "\"1110208461927841793\",\"2019-03-25 15:54:58\",\"565\",\"210\",\"jh_jacobsen\",\"723\",\"0.781466113416\",\"https://t.co/XSv7vToQP6\",\"1/6 Deep classifiers seem to be extremely invariant to *task-relevant* changes. We can change the content of any Im... https://t.co/XSv7vToQP6\"\n",
      "\"1131890349578829825\",\"2019-05-24 11:51:03\",\"1810\",\"708\",\"DavidBeniaguev\",\"793\",\"2.28247162673\",\"https://t.co/dbdQmoVwrV\",\"A story of a Cortical Neuron as a Deep Artificial Neural Net:  1) Neurons in the brain are bombarded with massive s... https://t.co/dbdQmoVwrV\"\n",
      "\"1138983990247940096\",\"2019-06-13 01:38:39\",\"491\",\"171\",\"SanneKlompe\",\"287\",\"1.71080139373\",\"https://t.co/GdUTNuVwj3\",\"Hey Twitter! I'm super stoked to plug the first paper from the Sternberg Lab! Transposon-encoded CRISPR-Cas systems... https://t.co/GdUTNuVwj3\"\n",
      "\"1138158367937925120\",\"2019-06-10 18:57:55\",\"346\",\"121\",\"vinnycosta_phd\",\"1325\",\"0.261132075472\",\"https://t.co/jgvTFXN0Ze\",\"!!! New paper now out in @NeuronCellPress !!!  We show that neurons in the amygdala and ventral striatum represent... https://t.co/jgvTFXN0Ze\"\n",
      "\"1139439817702498305\",\"2019-06-14 07:49:56\",\"31\",\"23\",\"liampshaw\",\"139\",\"0.223021582734\",\"https://t.co/Zg5IZ5J9x7\",\"What factors affect the range of hosts a pathogen infects? Emerging infectious diseases like Ebola emphasise the im... https://t.co/Zg5IZ5J9x7\"\n",
      "\"1135900129402208257\",\"2019-06-04 13:24:29\",\"896\",\"288\",\"avdnoord\",\"11289\",\"0.0793692975463\",\"https://t.co/EzOgSPCRoY\",\"VQVAE-2 finally out!  Powerful autoregressive models in a hierarchical compressed latent space. No modes were colla... https://t.co/EzOgSPCRoY\"\n",
      "\"1094972845535518726\",\"2019-02-11 14:54:04\",\"30\",\"17\",\"parrell\",\"362\",\"0.0828729281768\",\"https://t.co/NHSfxOqtZp\",\"Our new paper on computational modeling of speech motor control is up on bioRxiv (https://t.co/KLfzAp9lzk). We pres... https://t.co/NHSfxOqtZp\"\n",
      "\"1074739264879874048\",\"2018-12-17 18:53:03\",\"123\",\"53\",\"NatashaMhatre\",\"907\",\"0.135611907387\",\"https://t.co/gmfY5tGKqM\",\"We published a preprint on black widow spiders and their mechanosensory system a little while ago. I'm going to do... https://t.co/gmfY5tGKqM\"\n",
      "\"1079473459124551680\",\"2018-12-30 20:25:02\",\"40\",\"11\",\"sergeydoestweet\",\"635\",\"0.0629921259843\",\"https://t.co/gFROj1SXwu\",\"#tweeprint of our new preprint: we found speech-related neural activity obtained using multielectrode recordings in... https://t.co/gFROj1SXwu\"\n",
      "\"1103300000577216513\",\"2019-03-06 14:23:13\",\"43\",\"14\",\"ek_kearney\",\"429\",\"0.100233100233\",\"https://t.co/LeE6QcXDV0\",\"Latest paper \"Articulating: The Neural Mechanisms of Speech Production\" out in Language, Cognition and Neuroscience... https://t.co/LeE6QcXDV0\"\n",
      "\"1128363082777022464\",\"2019-05-14 18:14:57\",\"111\",\"41\",\"bsauerbrei1\",\"980\",\"0.113265306122\",\"https://t.co/MRvmDHZWOd\",\"1/n In 1573, Varolio described the pontine nuclei (PN), which link cerebral cortex to cerebellum. Today, however, l... https://t.co/MRvmDHZWOd\"\n",
      "\"1130848696919158787\",\"2019-05-21 14:51:54\",\"59\",\"14\",\"raeedcho\",\"241\",\"0.244813278008\",\"https://t.co/YihheD56f3\",\"We have a new preprint on bioRxiv Area 2 neural coding in monkeys it describes I want you to read it But so I could... https://t.co/YihheD56f3\"\n",
      "\"1131369040935555074\",\"2019-05-23 01:19:33\",\"22\",\"5\",\"MaromBikson\",\"1850\",\"0.0118918918919\",\"https://t.co/WoTifuYo6W\",\"(1 or 8) 15 years since \"Effects of uniform extracellular DC electric fields on excitability in rat hippocampal sli... https://t.co/WoTifuYo6W\"\n",
      "\"1124479123982835714\",\"2019-05-04 01:01:29\",\"36\",\"12\",\"MarthaBagnall\",\"356\",\"0.101123595506\",\"https://t.co/VDi7jb6SbR\",\"So, what's this preprint all about? A thread... The spinal cord contains a diverse array of neurons, and it's been... https://t.co/VDi7jb6SbR\"\n",
      "\"1135961408124923905\",\"2019-06-04 17:27:59\",\"11\",\"3\",\"crisimmar\",\"88\",\"0.125\",\"https://t.co/OqBgYYLSm7\",\"Our last paper on the neuropathophysiology of hand function in unilateral cerebral palsy is out! This is the result... https://t.co/OqBgYYLSm7\"\n"
     ]
    }
   ],
   "source": [
    "from unidecode import unidecode\n",
    "tweeprints = [t.retweeted_status for t in unique_tweets if hasattr(t, 'retweeted_status')]\n",
    "for t in tweeprints:\n",
    "    id = t.id\n",
    "    dt = t.created_at\n",
    "    txt = unidecode(t.text).replace('\\n',' ')\n",
    "    url = 'http' + txt.split('http')[-1]\n",
    "    likes = t.favorite_count\n",
    "    rts = t.retweet_count\n",
    "    user = t.user.screen_name\n",
    "    followers = t.user.followers_count\n",
    "    row = [id, dt, likes, rts, user, followers, 1.0*likes/followers, url, txt]\n",
    "    print ','.join(['\"{}\"'.format(r) for r in row])\n",
    "    "
   ]
  },
  {
   "cell_type": "code",
   "execution_count": 289,
   "metadata": {
    "collapsed": false
   },
   "outputs": [
    {
     "name": "stdout",
     "output_type": "stream",
     "text": [
      "['__class__', '__delattr__', '__dict__', '__doc__', '__eq__', '__format__', '__getattribute__', '__getstate__', '__hash__', '__init__', '__module__', '__ne__', '__new__', '__reduce__', '__reduce_ex__', '__repr__', '__setattr__', '__sizeof__', '__str__', '__subclasshook__', '__weakref__', '_api', '_json', 'author', 'contributors', 'coordinates', 'created_at', 'destroy', 'entities', 'favorite', 'favorite_count', 'favorited', 'geo', 'id', 'id_str', 'in_reply_to_screen_name', 'in_reply_to_status_id', 'in_reply_to_status_id_str', 'in_reply_to_user_id', 'in_reply_to_user_id_str', 'is_quote_status', 'lang', 'parse', 'parse_list', 'place', 'possibly_sensitive', 'retweet', 'retweet_count', 'retweeted', 'retweets', 'source', 'source_url', 'text', 'truncated', 'user']\n",
      "1207348895854006272\n",
      "https://t.co/tBFiGwRcUc\n"
     ]
    }
   ],
   "source": [
    "print dir(tweeprints[0])\n",
    "print tweeprints[0].id_str\n",
    "print tweeprints[0].text.split()[-1]"
   ]
  },
  {
   "cell_type": "code",
   "execution_count": null,
   "metadata": {
    "collapsed": true
   },
   "outputs": [],
   "source": []
  },
  {
   "cell_type": "code",
   "execution_count": 255,
   "metadata": {
    "collapsed": false
   },
   "outputs": [
    {
     "name": "stdout",
     "output_type": "stream",
     "text": [
      "251\n"
     ]
    },
    {
     "data": {
      "image/png": "[encoded data removed]",
      "text/plain": [
       "<Figure size 432x288 with 1 Axes>"
      ]
     },
     "metadata": {},
     "output_type": "display_data"
    }
   ],
   "source": [
    "from collections import OrderedDict \n",
    "\n",
    "journals = OrderedDict()\n",
    "journals['preprint'] = 136\n",
    "journals['nature research'] = 37\n",
    "journals['cell press'] = 22\n",
    "journals['elife'] = 12\n",
    "journals['plos'] = 6\n",
    "journals['jneurophys'] = 4\n",
    "journals['pnas'] = 4\n",
    "journals['science'] = 3\n",
    "journals['frontiersin'] = 3\n",
    "journals['jneurosci'] = 1\n",
    "journals['other'] = 23\n",
    "\n",
    "print(np.array(journals.values()).sum())\n",
    "\n",
    "xs = list(journals.keys())\n",
    "ys = list(journals.values())\n",
    "plt.bar(range(len(xs)), ys)\n",
    "plt.xticks(range(len(xs)), xs, fontsize=fntsz, rotation=90)\n",
    "plt.yticks(fontsize=fntsz)\n",
    "plt.ylabel('# tweeprints', fontsize=fntsz)\n",
    "plt.show()\n",
    "# 136 *rxiv (93 bio, 38 arxiv, 4 psyarxiv, 1 medarxiv)\n",
    "# 37 nature (12 communications, 10 neuro, 7 nature, 2 human beh, 1 protocols, 1 scientific reports)\n",
    "# 22 cell (12 neuron, 5 current bio, 5 cell)\n",
    "# 12 elife\n",
    "# 6 plos\n",
    "# 4 physiology\n",
    "# 4 pnas\n",
    "# 3 sciencedirect\n",
    "# 3 science\n",
    "# 3 frontiersin\n",
    "# 1 jneurosci\n",
    "# (21 other)\n"
   ]
  },
  {
   "cell_type": "code",
   "execution_count": 121,
   "metadata": {
    "collapsed": true
   },
   "outputs": [],
   "source": [
    "\n",
    "query = \"#tweeprint\"\n",
    "max_tweets = 10\n",
    "matches = []\n",
    "for status in tweepy.Cursor(api.search, q=query + ' -filter:retweets', count=max_tweets, tweet_mode='extended').items(max_tweets):\n",
    "    # can add max_id= to only get tweets since a given id\n",
    "    if not hasattr(status, 'retweeted_status'):\n",
    "        matches.append(status)"
   ]
  },
  {
   "cell_type": "code",
   "execution_count": 5,
   "metadata": {
    "collapsed": false
   },
   "outputs": [
    {
     "name": "stdout",
     "output_type": "stream",
     "text": [
      "[]\n"
     ]
    }
   ],
   "source": [
    "print(matches)\n",
    "for tweet in matches:\n",
    "    print tweet.full_text"
   ]
  },
  {
   "cell_type": "code",
   "execution_count": 6,
   "metadata": {
    "collapsed": false
   },
   "outputs": [
    {
     "ename": "IndexError",
     "evalue": "list index out of range",
     "output_type": "error",
     "traceback": [
      "\u001b[0;31m---------------------------------------------------------------------------\u001b[0m",
      "\u001b[0;31mIndexError\u001b[0m                                Traceback (most recent call last)",
      "\u001b[0;32m<ipython-input-6-c42f06eddeaa>\u001b[0m in \u001b[0;36m<module>\u001b[0;34m()\u001b[0m\n\u001b[0;32m----> 1\u001b[0;31m \u001b[0mtweet\u001b[0m \u001b[0;34m=\u001b[0m \u001b[0mmatches\u001b[0m\u001b[0;34m[\u001b[0m\u001b[0;36m0\u001b[0m\u001b[0;34m]\u001b[0m\u001b[0;34m\u001b[0m\u001b[0m\n\u001b[0m\u001b[1;32m      2\u001b[0m \u001b[0;32mprint\u001b[0m \u001b[0mtweet\u001b[0m\u001b[0;34m.\u001b[0m\u001b[0mfull_text\u001b[0m\u001b[0;34m\u001b[0m\u001b[0m\n\u001b[1;32m      3\u001b[0m \u001b[0;32mprint\u001b[0m \u001b[0mtweet\u001b[0m\u001b[0;34m.\u001b[0m\u001b[0mid\u001b[0m\u001b[0;34m\u001b[0m\u001b[0m\n\u001b[1;32m      4\u001b[0m \u001b[0;32mprint\u001b[0m \u001b[0mtweet\u001b[0m\u001b[0;34m.\u001b[0m\u001b[0mid_str\u001b[0m\u001b[0;34m\u001b[0m\u001b[0m\n\u001b[1;32m      5\u001b[0m \u001b[0;32mprint\u001b[0m \u001b[0mtweet\u001b[0m\u001b[0;34m.\u001b[0m\u001b[0muser\u001b[0m\u001b[0;34m.\u001b[0m\u001b[0mscreen_name\u001b[0m\u001b[0;34m\u001b[0m\u001b[0m\n",
      "\u001b[0;31mIndexError\u001b[0m: list index out of range"
     ]
    }
   ],
   "source": [
    "tweet = matches[0]\n",
    "print tweet.full_text\n",
    "print tweet.id\n",
    "print tweet.id_str\n",
    "print tweet.user.screen_name\n",
    "print tweet.in_reply_to_status_id_str"
   ]
  },
  {
   "cell_type": "code",
   "execution_count": 55,
   "metadata": {
    "collapsed": true
   },
   "outputs": [],
   "source": [
    "tweet = matches[0]\n",
    "replies = []\n",
    "for subtweet in tweepy.Cursor(api.search,q='from: ' + tweet.user.screen_name + ' to:' + tweet.user.screen_name + ' -filter:retweets', since_id=tweet.id, result_type='recent', timeout=999999).items(20):\n",
    "    if subtweet.in_reply_to_status_id_str is not None and not hasattr(subtweet, 'retweeted_status'):\n",
    "      if True:#(subtweet.in_reply_to_status_id_str==tweet.id_str):\n",
    "        replies.append(subtweet)\n"
   ]
  },
  {
   "cell_type": "code",
   "execution_count": 56,
   "metadata": {
    "collapsed": false
   },
   "outputs": [
    {
     "name": "stdout",
     "output_type": "stream",
     "text": [
      "We found that aberrant sensorimotor functional connectivity seemed to be dependent on the corticospinal tract wirin… https://t.co/BVBg3YAVck\n"
     ]
    }
   ],
   "source": [
    "for rep in replies:\n",
    "    print rep.text\n"
   ]
  },
  {
   "cell_type": "code",
   "execution_count": 61,
   "metadata": {
    "collapsed": false
   },
   "outputs": [
    {
     "data": {
      "text/plain": [
       "['__class__',\n",
       " '__delattr__',\n",
       " '__dict__',\n",
       " '__doc__',\n",
       " '__eq__',\n",
       " '__format__',\n",
       " '__getattribute__',\n",
       " '__getstate__',\n",
       " '__hash__',\n",
       " '__init__',\n",
       " '__module__',\n",
       " '__ne__',\n",
       " '__new__',\n",
       " '__reduce__',\n",
       " '__reduce_ex__',\n",
       " '__repr__',\n",
       " '__setattr__',\n",
       " '__sizeof__',\n",
       " '__str__',\n",
       " '__subclasshook__',\n",
       " '__weakref__',\n",
       " '_api',\n",
       " '_json',\n",
       " 'author',\n",
       " 'contributors',\n",
       " 'coordinates',\n",
       " 'created_at',\n",
       " 'destroy',\n",
       " 'display_text_range',\n",
       " 'entities',\n",
       " 'extended_entities',\n",
       " 'favorite',\n",
       " 'favorite_count',\n",
       " 'favorited',\n",
       " 'full_text',\n",
       " 'geo',\n",
       " 'id',\n",
       " 'id_str',\n",
       " 'in_reply_to_screen_name',\n",
       " 'in_reply_to_status_id',\n",
       " 'in_reply_to_status_id_str',\n",
       " 'in_reply_to_user_id',\n",
       " 'in_reply_to_user_id_str',\n",
       " 'is_quote_status',\n",
       " 'lang',\n",
       " 'metadata',\n",
       " 'parse',\n",
       " 'parse_list',\n",
       " 'place',\n",
       " 'possibly_sensitive',\n",
       " 'retweet',\n",
       " 'retweet_count',\n",
       " 'retweeted',\n",
       " 'retweets',\n",
       " 'source',\n",
       " 'source_url',\n",
       " 'truncated',\n",
       " 'user']"
      ]
     },
     "execution_count": 61,
     "metadata": {},
     "output_type": "execute_result"
    }
   ],
   "source": [
    "dir(tweet)"
   ]
  },
  {
   "cell_type": "code",
   "execution_count": 65,
   "metadata": {
    "collapsed": false
   },
   "outputs": [
    {
     "data": {
      "text/plain": [
       "[{u'display_url': u'rdcu.be/bFu8D',\n",
       "  u'expanded_url': u'https://rdcu.be/bFu8D',\n",
       "  u'indices': [221, 244],\n",
       "  u'url': u'https://t.co/NnJhTMobqt'}]"
      ]
     },
     "execution_count": 65,
     "metadata": {},
     "output_type": "execute_result"
    }
   ],
   "source": [
    "tweet.entities['urls']"
   ]
  },
  {
   "cell_type": "code",
   "execution_count": 85,
   "metadata": {
    "collapsed": true
   },
   "outputs": [],
   "source": [
    "tw = api.get_status(1139639165040156674)"
   ]
  },
  {
   "cell_type": "code",
   "execution_count": 72,
   "metadata": {
    "collapsed": false
   },
   "outputs": [
    {
     "data": {
      "text/plain": [
       "['__class__',\n",
       " '__delattr__',\n",
       " '__dict__',\n",
       " '__doc__',\n",
       " '__eq__',\n",
       " '__format__',\n",
       " '__getattribute__',\n",
       " '__getstate__',\n",
       " '__hash__',\n",
       " '__init__',\n",
       " '__module__',\n",
       " '__ne__',\n",
       " '__new__',\n",
       " '__reduce__',\n",
       " '__reduce_ex__',\n",
       " '__repr__',\n",
       " '__setattr__',\n",
       " '__sizeof__',\n",
       " '__str__',\n",
       " '__subclasshook__',\n",
       " '__weakref__',\n",
       " '_api',\n",
       " '_json',\n",
       " 'author',\n",
       " 'contributors',\n",
       " 'coordinates',\n",
       " 'created_at',\n",
       " 'destroy',\n",
       " 'entities',\n",
       " 'favorite',\n",
       " 'favorite_count',\n",
       " 'favorited',\n",
       " 'geo',\n",
       " 'id',\n",
       " 'id_str',\n",
       " 'in_reply_to_screen_name',\n",
       " 'in_reply_to_status_id',\n",
       " 'in_reply_to_status_id_str',\n",
       " 'in_reply_to_user_id',\n",
       " 'in_reply_to_user_id_str',\n",
       " 'is_quote_status',\n",
       " 'lang',\n",
       " 'parse',\n",
       " 'parse_list',\n",
       " 'place',\n",
       " 'possibly_sensitive',\n",
       " 'possibly_sensitive_appealable',\n",
       " 'quoted_status',\n",
       " 'quoted_status_id',\n",
       " 'quoted_status_id_str',\n",
       " 'retweet',\n",
       " 'retweet_count',\n",
       " 'retweeted',\n",
       " 'retweets',\n",
       " 'source',\n",
       " 'source_url',\n",
       " 'text',\n",
       " 'truncated',\n",
       " 'user']"
      ]
     },
     "execution_count": 72,
     "metadata": {},
     "output_type": "execute_result"
    }
   ],
   "source": [
    "dir(tw)"
   ]
  },
  {
   "cell_type": "code",
   "execution_count": 82,
   "metadata": {
    "collapsed": false
   },
   "outputs": [
    {
     "data": {
      "text/plain": [
       "[{u'display_url': u'twitter.com/MarthaBagnall/\\u2026',\n",
       "  u'expanded_url': u'https://twitter.com/MarthaBagnall/status/1124479123982835714',\n",
       "  u'indices': [70, 93],\n",
       "  u'url': u'https://t.co/1Vy6NdeDiR'}]"
      ]
     },
     "execution_count": 82,
     "metadata": {},
     "output_type": "execute_result"
    }
   ],
   "source": [
    "tw.entities['urls']"
   ]
  },
  {
   "cell_type": "code",
   "execution_count": 83,
   "metadata": {
    "collapsed": true
   },
   "outputs": [],
   "source": [
    "urls = [url for url in tweet.entities['urls'] if 'twitter' not in url['display_url']]"
   ]
  },
  {
   "cell_type": "code",
   "execution_count": 84,
   "metadata": {
    "collapsed": false
   },
   "outputs": [
    {
     "data": {
      "text/plain": [
       "[{u'display_url': u'rdcu.be/bFu8D',\n",
       "  u'expanded_url': u'https://rdcu.be/bFu8D',\n",
       "  u'indices': [221, 244],\n",
       "  u'url': u'https://t.co/NnJhTMobqt'}]"
      ]
     },
     "execution_count": 84,
     "metadata": {},
     "output_type": "execute_result"
    }
   ],
   "source": [
    "urls"
   ]
  },
  {
   "cell_type": "code",
   "execution_count": 86,
   "metadata": {
    "collapsed": false
   },
   "outputs": [
    {
     "data": {
      "text/plain": [
       "u'RT @parrell: Our new paper on computational modeling of speech motor control is up on bioRxiv (https://t.co/KLfzAp9lzk). We present details\\u2026'"
      ]
     },
     "execution_count": 86,
     "metadata": {},
     "output_type": "execute_result"
    }
   ],
   "source": [
    "tw.text"
   ]
  },
  {
   "cell_type": "code",
   "execution_count": 97,
   "metadata": {
    "collapsed": false
   },
   "outputs": [
    {
     "data": {
      "text/plain": [
       "['2019-06-14 21:02:05',\n",
       " u'crisimmar',\n",
       " 1139639165040156674,\n",
       " u'RT @parrell: Our new paper on computational modeling of speech motor control is up on bioRxiv (https://t.co/KLfzAp9lzk). We present details\\u2026']"
      ]
     },
     "execution_count": 97,
     "metadata": {},
     "output_type": "execute_result"
    }
   ],
   "source": [
    "[str(tw.created_at), tw.user.screen_name, tw.id, tw.text]"
   ]
  },
  {
   "cell_type": "code",
   "execution_count": 102,
   "metadata": {
    "collapsed": false
   },
   "outputs": [
    {
     "data": {
      "text/plain": [
       "['__class__',\n",
       " '__delattr__',\n",
       " '__dict__',\n",
       " '__doc__',\n",
       " '__eq__',\n",
       " '__format__',\n",
       " '__getattribute__',\n",
       " '__getstate__',\n",
       " '__hash__',\n",
       " '__init__',\n",
       " '__module__',\n",
       " '__ne__',\n",
       " '__new__',\n",
       " '__reduce__',\n",
       " '__reduce_ex__',\n",
       " '__repr__',\n",
       " '__setattr__',\n",
       " '__sizeof__',\n",
       " '__str__',\n",
       " '__subclasshook__',\n",
       " '__weakref__',\n",
       " '_api',\n",
       " '_json',\n",
       " 'author',\n",
       " 'contributors',\n",
       " 'coordinates',\n",
       " 'created_at',\n",
       " 'destroy',\n",
       " 'entities',\n",
       " 'favorite',\n",
       " 'favorite_count',\n",
       " 'favorited',\n",
       " 'geo',\n",
       " 'id',\n",
       " 'id_str',\n",
       " 'in_reply_to_screen_name',\n",
       " 'in_reply_to_status_id',\n",
       " 'in_reply_to_status_id_str',\n",
       " 'in_reply_to_user_id',\n",
       " 'in_reply_to_user_id_str',\n",
       " 'is_quote_status',\n",
       " 'lang',\n",
       " 'parse',\n",
       " 'parse_list',\n",
       " 'place',\n",
       " 'possibly_sensitive',\n",
       " 'possibly_sensitive_appealable',\n",
       " 'retweet',\n",
       " 'retweet_count',\n",
       " 'retweeted',\n",
       " 'retweeted_status',\n",
       " 'retweets',\n",
       " 'source',\n",
       " 'source_url',\n",
       " 'text',\n",
       " 'truncated',\n",
       " 'user']"
      ]
     },
     "execution_count": 102,
     "metadata": {},
     "output_type": "execute_result"
    }
   ],
   "source": [
    "dir(tw)"
   ]
  },
  {
   "cell_type": "code",
   "execution_count": 111,
   "metadata": {
    "collapsed": false
   },
   "outputs": [
    {
     "data": {
      "text/plain": [
       "'http://twitter.com/tweeprint/status/1139639165040156674'"
      ]
     },
     "execution_count": 111,
     "metadata": {},
     "output_type": "execute_result"
    }
   ],
   "source": [
    "'{}/{}/status/{}'.format(tw.source_url, tw.user.screen_name, tw.id)"
   ]
  },
  {
   "cell_type": "code",
   "execution_count": 108,
   "metadata": {
    "collapsed": false
   },
   "outputs": [],
   "source": [
    "t2 = api.get_status(tw.id)"
   ]
  },
  {
   "cell_type": "code",
   "execution_count": 112,
   "metadata": {
    "collapsed": false
   },
   "outputs": [
    {
     "data": {
      "text/plain": [
       "1139639165040156674"
      ]
     },
     "execution_count": 112,
     "metadata": {},
     "output_type": "execute_result"
    }
   ],
   "source": [
    "tw.id"
   ]
  },
  {
   "cell_type": "code",
   "execution_count": null,
   "metadata": {
    "collapsed": true
   },
   "outputs": [],
   "source": []
  }
 ],
 "metadata": {
  "anaconda-cloud": {},
  "kernelspec": {
   "display_name": "Python [conda env:anaconda]",
   "language": "python",
   "name": "conda-env-anaconda-py"
  },
  "language_info": {
   "codemirror_mode": {
    "name": "ipython",
    "version": 2
   },
   "file_extension": ".py",
   "mimetype": "text/x-python",
   "name": "python",
   "nbconvert_exporter": "python",
   "pygments_lexer": "ipython2",
   "version": "2.7.6"
  }
 },
 "nbformat": 4,
 "nbformat_minor": 1
}
